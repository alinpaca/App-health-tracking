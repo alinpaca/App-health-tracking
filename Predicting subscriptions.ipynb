{
 "cells": [
  {
   "cell_type": "markdown",
   "metadata": {},
   "source": [
    "### Background: \n",
    "Based on the weak signals and trends from dataset visualization, it is unlikely that we can make good predictions on whether or not a user a subscribe. However, given the sparse and imbalanced dataset, we want to test some sampling techniques to see how they fare with a classification algorithm.\n",
    "### Purpose:\n",
    "Train a classification model to predict whether or not a user will subscribe. Predictions enable us to provide appropriate incentives to subscribe or develop new app features that will be useful to subscribers."
   ]
  },
  {
   "cell_type": "code",
   "execution_count": 2,
   "metadata": {
    "collapsed": true
   },
   "outputs": [],
   "source": [
    "# import libraries\n",
    "import numpy as np\n",
    "import pandas as pd\n",
    "import matplotlib.pyplot as plt\n",
    "%matplotlib inline\n",
    "import seaborn as sns"
   ]
  },
  {
   "cell_type": "code",
   "execution_count": 3,
   "metadata": {
    "collapsed": true
   },
   "outputs": [],
   "source": [
    "# open dataframe\n",
    "df = pd.read_pickle('df_clean-2018-03-16-reducedQ')"
   ]
  },
  {
   "cell_type": "code",
   "execution_count": 4,
   "metadata": {},
   "outputs": [
    {
     "data": {
      "text/plain": [
       "Index(['ID', 'Class', 'InstallDate', 'LastSavedUTC', 'LastSync', 'Platform',\n",
       "       'FirstInstalledVersion', 'DaysSinceInstall', 'SessionCount',\n",
       "       'ExperimentID', 'Experiment', 'MinLockedBottom', 'LockedBottom',\n",
       "       'LockedBottomDelta', 'LockedTop', 'Variation', 'PriceOptions',\n",
       "       'PriceSkus', 'Tier', 'OfferFree', 'SingleProduct', 'TwoProducts',\n",
       "       'UICulture', 'Language', 'IsPaid', 'LastProduct', 'LastProductValue',\n",
       "       'LastPurchaseDate', 'LastPurchaseDaysSinceInstall', 'LastDiscount',\n",
       "       'LastExpired', 'FirstAvailableStoreProduct', 'AvailableStoreProducts',\n",
       "       'FirstPrice', 'Feedback.FirstRating', 'Feedback.RatingCount',\n",
       "       'Feedback.LastRating', 'LastOnboardingScreen', 'PriceStrategy',\n",
       "       'ActionUnlockRequestCount', 'ActionUnlockRequestValue',\n",
       "       'FailedDBRequests', 'TotalValue', 'InstalledDBVersion', 'Gender',\n",
       "       'AgeWhenGoalsSet', 'DailyGoalCount', 'Program', 'ReminderFrequency',\n",
       "       'SelectedTotal', 'ShowMealTime', 'ExerciseFrequency', 'Height',\n",
       "       'LastWeight', 'TargetWeight', 'HeightUnit', 'WeightUnit', 'EnergyUnit',\n",
       "       'OnboardingGoal', 'SessionsPerDay', 'WeightDiff', 'LastBMI',\n",
       "       'TargetBMI', 'AgeGroup', 'AgeInput', 'TargetWeightInput',\n",
       "       'QProductAmtOffer', 'QProductAmtPaid'],\n",
       "      dtype='object')"
      ]
     },
     "execution_count": 4,
     "metadata": {},
     "output_type": "execute_result"
    }
   ],
   "source": [
    "df.columns"
   ]
  },
  {
   "cell_type": "code",
   "execution_count": 5,
   "metadata": {
    "collapsed": true
   },
   "outputs": [],
   "source": [
    "df.drop(['ID', 'Class', 'InstallDate', 'LastSavedUTC', 'LastSync',\n",
    "       'FirstInstalledVersion', 'DaysSinceInstall', 'SessionCount',\n",
    "       'ExperimentID', 'Experiment', 'MinLockedBottom', 'LockedBottom',\n",
    "       'LockedBottomDelta', 'LockedTop', 'Variation', 'PriceOptions',\n",
    "       'PriceSkus', 'Tier', 'OfferFree', 'SingleProduct', 'TwoProducts',\n",
    "       'Language', 'LastProduct', 'LastProductValue',\n",
    "       'LastPurchaseDate', 'LastPurchaseDaysSinceInstall', 'LastDiscount',\n",
    "       'LastExpired', 'FirstAvailableStoreProduct', 'AvailableStoreProducts',\n",
    "       'FirstPrice', 'Feedback.FirstRating', 'Feedback.RatingCount',\n",
    "       'Feedback.LastRating', 'LastOnboardingScreen', 'PriceStrategy',\n",
    "       'ActionUnlockRequestCount', 'ActionUnlockRequestValue',\n",
    "       'FailedDBRequests', 'TotalValue', 'InstalledDBVersion',\n",
    "       'AgeWhenGoalsSet', 'DailyGoalCount', 'Program', 'ReminderFrequency',\n",
    "       'SelectedTotal', 'ExerciseFrequency', 'Height',\n",
    "       'LastWeight', 'TargetWeight', 'HeightUnit', 'WeightUnit', 'EnergyUnit',\n",
    "       'OnboardingGoal', 'SessionsPerDay', 'LastBMI',\n",
    "       'TargetBMI'], axis=1, inplace=True)"
   ]
  },
  {
   "cell_type": "code",
   "execution_count": 6,
   "metadata": {},
   "outputs": [
    {
     "name": "stdout",
     "output_type": "stream",
     "text": [
      "<class 'pandas.core.frame.DataFrame'>\n",
      "RangeIndex: 462919 entries, 0 to 462918\n",
      "Data columns (total 11 columns):\n",
      "Platform             462919 non-null object\n",
      "UICulture            462919 non-null object\n",
      "IsPaid               462919 non-null bool\n",
      "Gender               462919 non-null object\n",
      "ShowMealTime         462919 non-null bool\n",
      "WeightDiff           462919 non-null float64\n",
      "AgeGroup             462919 non-null int64\n",
      "AgeInput             462919 non-null bool\n",
      "TargetWeightInput    462919 non-null bool\n",
      "QProductAmtOffer     462919 non-null int64\n",
      "QProductAmtPaid      462919 non-null int64\n",
      "dtypes: bool(4), float64(1), int64(3), object(3)\n",
      "memory usage: 26.5+ MB\n"
     ]
    }
   ],
   "source": [
    "df.info()"
   ]
  },
  {
   "cell_type": "code",
   "execution_count": 7,
   "metadata": {
    "collapsed": true
   },
   "outputs": [],
   "source": [
    "df['ShowMealTime'] = df['ShowMealTime'].astype(int)\n",
    "df['AgeInput'] = df['AgeInput'].astype(int)\n",
    "df['TargetWeightInput'] = df['TargetWeightInput'].astype(int)\n",
    "df['IsPaid'] = df['IsPaid'].astype(int)\n",
    "df['QPaid'] = df['QProductAmtPaid'].apply(lambda x: x>0).astype(int)"
   ]
  },
  {
   "cell_type": "code",
   "execution_count": 8,
   "metadata": {},
   "outputs": [
    {
     "name": "stdout",
     "output_type": "stream",
     "text": [
      "<class 'pandas.core.frame.DataFrame'>\n",
      "RangeIndex: 462919 entries, 0 to 462918\n",
      "Data columns (total 12 columns):\n",
      "Platform             462919 non-null object\n",
      "UICulture            462919 non-null object\n",
      "IsPaid               462919 non-null int64\n",
      "Gender               462919 non-null object\n",
      "ShowMealTime         462919 non-null int64\n",
      "WeightDiff           462919 non-null float64\n",
      "AgeGroup             462919 non-null int64\n",
      "AgeInput             462919 non-null int64\n",
      "TargetWeightInput    462919 non-null int64\n",
      "QProductAmtOffer     462919 non-null int64\n",
      "QProductAmtPaid      462919 non-null int64\n",
      "QPaid                462919 non-null int64\n",
      "dtypes: float64(1), int64(8), object(3)\n",
      "memory usage: 42.4+ MB\n"
     ]
    }
   ],
   "source": [
    "df.info()"
   ]
  },
  {
   "cell_type": "code",
   "execution_count": 9,
   "metadata": {
    "collapsed": true
   },
   "outputs": [],
   "source": [
    "df.drop(['IsPaid', 'QProductAmtOffer', 'QPaid'], axis=1, inplace=True)"
   ]
  },
  {
   "cell_type": "code",
   "execution_count": 10,
   "metadata": {
    "collapsed": true
   },
   "outputs": [],
   "source": [
    "# new column QPaid to designate paid (subscribed) or not for a Q-type subscription\n",
    "df['QPaid'] = df['QProductAmtPaid']/df['QProductAmtPaid']"
   ]
  },
  {
   "cell_type": "code",
   "execution_count": 11,
   "metadata": {
    "collapsed": true
   },
   "outputs": [],
   "source": [
    "df['QPaid'].fillna(value=0, inplace=True)"
   ]
  },
  {
   "cell_type": "code",
   "execution_count": 12,
   "metadata": {
    "collapsed": true
   },
   "outputs": [],
   "source": [
    "df['QPaid'] = df['QPaid'].astype(int)"
   ]
  },
  {
   "cell_type": "code",
   "execution_count": 13,
   "metadata": {
    "collapsed": true
   },
   "outputs": [],
   "source": [
    "df.drop(['QProductAmtPaid'], axis=1, inplace=True )"
   ]
  },
  {
   "cell_type": "markdown",
   "metadata": {},
   "source": [
    "### Following features showed some signals in exploratory data analysis"
   ]
  },
  {
   "cell_type": "code",
   "execution_count": 14,
   "metadata": {},
   "outputs": [
    {
     "name": "stdout",
     "output_type": "stream",
     "text": [
      "<class 'pandas.core.frame.DataFrame'>\n",
      "RangeIndex: 462919 entries, 0 to 462918\n",
      "Data columns (total 9 columns):\n",
      "Platform             462919 non-null object\n",
      "UICulture            462919 non-null object\n",
      "Gender               462919 non-null object\n",
      "ShowMealTime         462919 non-null int64\n",
      "WeightDiff           462919 non-null float64\n",
      "AgeGroup             462919 non-null int64\n",
      "AgeInput             462919 non-null int64\n",
      "TargetWeightInput    462919 non-null int64\n",
      "QPaid                462919 non-null int64\n",
      "dtypes: float64(1), int64(5), object(3)\n",
      "memory usage: 31.8+ MB\n"
     ]
    }
   ],
   "source": [
    "df.info()"
   ]
  },
  {
   "cell_type": "code",
   "execution_count": 15,
   "metadata": {
    "collapsed": true
   },
   "outputs": [],
   "source": [
    "# One hot encode categorical features\n",
    "df_new = pd.get_dummies(df, columns=['Platform', 'UICulture', 'Gender', 'AgeGroup'], \n",
    "                        prefix=['P','C','G','A'], drop_first=True)"
   ]
  },
  {
   "cell_type": "code",
   "execution_count": 16,
   "metadata": {},
   "outputs": [
    {
     "name": "stdout",
     "output_type": "stream",
     "text": [
      "<class 'pandas.core.frame.DataFrame'>\n",
      "RangeIndex: 462919 entries, 0 to 462918\n",
      "Columns: 184 entries, ShowMealTime to A_5\n",
      "dtypes: float64(1), int64(4), uint8(179)\n",
      "memory usage: 96.7 MB\n"
     ]
    }
   ],
   "source": [
    "df_new.info()"
   ]
  },
  {
   "cell_type": "code",
   "execution_count": 17,
   "metadata": {},
   "outputs": [
    {
     "data": {
      "text/html": [
       "<div>\n",
       "<style>\n",
       "    .dataframe thead tr:only-child th {\n",
       "        text-align: right;\n",
       "    }\n",
       "\n",
       "    .dataframe thead th {\n",
       "        text-align: left;\n",
       "    }\n",
       "\n",
       "    .dataframe tbody tr th {\n",
       "        vertical-align: top;\n",
       "    }\n",
       "</style>\n",
       "<table border=\"1\" class=\"dataframe\">\n",
       "  <thead>\n",
       "    <tr style=\"text-align: right;\">\n",
       "      <th></th>\n",
       "      <th>ShowMealTime</th>\n",
       "      <th>WeightDiff</th>\n",
       "      <th>AgeInput</th>\n",
       "      <th>TargetWeightInput</th>\n",
       "      <th>QPaid</th>\n",
       "      <th>P_iOS</th>\n",
       "      <th>C_ar</th>\n",
       "      <th>C_ar-AE</th>\n",
       "      <th>C_ar-BH</th>\n",
       "      <th>C_ar-DZ</th>\n",
       "      <th>...</th>\n",
       "      <th>C_zh-Hant</th>\n",
       "      <th>C_zh-SG</th>\n",
       "      <th>C_zh-TW</th>\n",
       "      <th>G_Male</th>\n",
       "      <th>G_None</th>\n",
       "      <th>A_1</th>\n",
       "      <th>A_2</th>\n",
       "      <th>A_3</th>\n",
       "      <th>A_4</th>\n",
       "      <th>A_5</th>\n",
       "    </tr>\n",
       "  </thead>\n",
       "  <tbody>\n",
       "    <tr>\n",
       "      <th>0</th>\n",
       "      <td>1</td>\n",
       "      <td>0.0</td>\n",
       "      <td>0</td>\n",
       "      <td>0</td>\n",
       "      <td>0</td>\n",
       "      <td>0</td>\n",
       "      <td>0</td>\n",
       "      <td>0</td>\n",
       "      <td>0</td>\n",
       "      <td>0</td>\n",
       "      <td>...</td>\n",
       "      <td>0</td>\n",
       "      <td>0</td>\n",
       "      <td>0</td>\n",
       "      <td>0</td>\n",
       "      <td>1</td>\n",
       "      <td>0</td>\n",
       "      <td>0</td>\n",
       "      <td>0</td>\n",
       "      <td>0</td>\n",
       "      <td>0</td>\n",
       "    </tr>\n",
       "    <tr>\n",
       "      <th>1</th>\n",
       "      <td>0</td>\n",
       "      <td>0.0</td>\n",
       "      <td>0</td>\n",
       "      <td>0</td>\n",
       "      <td>0</td>\n",
       "      <td>0</td>\n",
       "      <td>0</td>\n",
       "      <td>0</td>\n",
       "      <td>0</td>\n",
       "      <td>0</td>\n",
       "      <td>...</td>\n",
       "      <td>0</td>\n",
       "      <td>0</td>\n",
       "      <td>0</td>\n",
       "      <td>0</td>\n",
       "      <td>1</td>\n",
       "      <td>0</td>\n",
       "      <td>0</td>\n",
       "      <td>0</td>\n",
       "      <td>0</td>\n",
       "      <td>0</td>\n",
       "    </tr>\n",
       "    <tr>\n",
       "      <th>2</th>\n",
       "      <td>0</td>\n",
       "      <td>0.0</td>\n",
       "      <td>0</td>\n",
       "      <td>0</td>\n",
       "      <td>0</td>\n",
       "      <td>0</td>\n",
       "      <td>0</td>\n",
       "      <td>0</td>\n",
       "      <td>0</td>\n",
       "      <td>0</td>\n",
       "      <td>...</td>\n",
       "      <td>0</td>\n",
       "      <td>0</td>\n",
       "      <td>0</td>\n",
       "      <td>0</td>\n",
       "      <td>1</td>\n",
       "      <td>0</td>\n",
       "      <td>0</td>\n",
       "      <td>0</td>\n",
       "      <td>0</td>\n",
       "      <td>0</td>\n",
       "    </tr>\n",
       "    <tr>\n",
       "      <th>3</th>\n",
       "      <td>0</td>\n",
       "      <td>0.0</td>\n",
       "      <td>0</td>\n",
       "      <td>0</td>\n",
       "      <td>0</td>\n",
       "      <td>0</td>\n",
       "      <td>0</td>\n",
       "      <td>0</td>\n",
       "      <td>0</td>\n",
       "      <td>0</td>\n",
       "      <td>...</td>\n",
       "      <td>0</td>\n",
       "      <td>0</td>\n",
       "      <td>0</td>\n",
       "      <td>0</td>\n",
       "      <td>1</td>\n",
       "      <td>0</td>\n",
       "      <td>0</td>\n",
       "      <td>0</td>\n",
       "      <td>0</td>\n",
       "      <td>0</td>\n",
       "    </tr>\n",
       "    <tr>\n",
       "      <th>4</th>\n",
       "      <td>0</td>\n",
       "      <td>0.0</td>\n",
       "      <td>0</td>\n",
       "      <td>0</td>\n",
       "      <td>0</td>\n",
       "      <td>1</td>\n",
       "      <td>0</td>\n",
       "      <td>0</td>\n",
       "      <td>0</td>\n",
       "      <td>0</td>\n",
       "      <td>...</td>\n",
       "      <td>0</td>\n",
       "      <td>0</td>\n",
       "      <td>0</td>\n",
       "      <td>0</td>\n",
       "      <td>1</td>\n",
       "      <td>0</td>\n",
       "      <td>0</td>\n",
       "      <td>0</td>\n",
       "      <td>0</td>\n",
       "      <td>0</td>\n",
       "    </tr>\n",
       "  </tbody>\n",
       "</table>\n",
       "<p>5 rows × 184 columns</p>\n",
       "</div>"
      ],
      "text/plain": [
       "   ShowMealTime  WeightDiff  AgeInput  TargetWeightInput  QPaid  P_iOS  C_ar  \\\n",
       "0             1         0.0         0                  0      0      0     0   \n",
       "1             0         0.0         0                  0      0      0     0   \n",
       "2             0         0.0         0                  0      0      0     0   \n",
       "3             0         0.0         0                  0      0      0     0   \n",
       "4             0         0.0         0                  0      0      1     0   \n",
       "\n",
       "   C_ar-AE  C_ar-BH  C_ar-DZ ...   C_zh-Hant  C_zh-SG  C_zh-TW  G_Male  \\\n",
       "0        0        0        0 ...           0        0        0       0   \n",
       "1        0        0        0 ...           0        0        0       0   \n",
       "2        0        0        0 ...           0        0        0       0   \n",
       "3        0        0        0 ...           0        0        0       0   \n",
       "4        0        0        0 ...           0        0        0       0   \n",
       "\n",
       "   G_None  A_1  A_2  A_3  A_4  A_5  \n",
       "0       1    0    0    0    0    0  \n",
       "1       1    0    0    0    0    0  \n",
       "2       1    0    0    0    0    0  \n",
       "3       1    0    0    0    0    0  \n",
       "4       1    0    0    0    0    0  \n",
       "\n",
       "[5 rows x 184 columns]"
      ]
     },
     "execution_count": 17,
     "metadata": {},
     "output_type": "execute_result"
    }
   ],
   "source": [
    "df_new.head(5)"
   ]
  },
  {
   "cell_type": "markdown",
   "metadata": {},
   "source": [
    "### Attempting random forest classifier to predict target feature, QPaid "
   ]
  },
  {
   "cell_type": "code",
   "execution_count": 149,
   "metadata": {
    "collapsed": true
   },
   "outputs": [],
   "source": [
    "from sklearn.ensemble import RandomForestClassifier"
   ]
  },
  {
   "cell_type": "code",
   "execution_count": 150,
   "metadata": {
    "collapsed": true
   },
   "outputs": [],
   "source": [
    "X = df_new.drop(['QPaid'], axis=1)\n",
    "y = df_new['QPaid']"
   ]
  },
  {
   "cell_type": "code",
   "execution_count": 151,
   "metadata": {
    "collapsed": true
   },
   "outputs": [],
   "source": [
    "X_train, X_test, y_train, y_test = train_test_split(X, y, test_size=0.33, random_state=42)"
   ]
  },
  {
   "cell_type": "code",
   "execution_count": 152,
   "metadata": {
    "collapsed": true
   },
   "outputs": [],
   "source": [
    "clf = RandomForestClassifier()"
   ]
  },
  {
   "cell_type": "code",
   "execution_count": 153,
   "metadata": {},
   "outputs": [
    {
     "data": {
      "text/plain": [
       "RandomForestClassifier(bootstrap=True, class_weight=None, criterion='gini',\n",
       "            max_depth=None, max_features='auto', max_leaf_nodes=None,\n",
       "            min_impurity_decrease=0.0, min_impurity_split=None,\n",
       "            min_samples_leaf=1, min_samples_split=2,\n",
       "            min_weight_fraction_leaf=0.0, n_estimators=10, n_jobs=1,\n",
       "            oob_score=False, random_state=None, verbose=0,\n",
       "            warm_start=False)"
      ]
     },
     "execution_count": 153,
     "metadata": {},
     "output_type": "execute_result"
    }
   ],
   "source": [
    "clf.fit(X_train, y_train)"
   ]
  },
  {
   "cell_type": "code",
   "execution_count": 154,
   "metadata": {
    "collapsed": true
   },
   "outputs": [],
   "source": [
    "predictions = clf.predict(X_test)"
   ]
  },
  {
   "cell_type": "code",
   "execution_count": 155,
   "metadata": {
    "collapsed": true
   },
   "outputs": [],
   "source": [
    "from sklearn.metrics import confusion_matrix, classification_report"
   ]
  },
  {
   "cell_type": "code",
   "execution_count": 156,
   "metadata": {},
   "outputs": [
    {
     "name": "stdout",
     "output_type": "stream",
     "text": [
      "[[152306     72]\n",
      " [   384      2]]\n",
      "             precision    recall  f1-score   support\n",
      "\n",
      "          0       1.00      1.00      1.00    152378\n",
      "          1       0.03      0.01      0.01       386\n",
      "\n",
      "avg / total       1.00      1.00      1.00    152764\n",
      "\n"
     ]
    }
   ],
   "source": [
    "print(confusion_matrix(y_test, predictions))\n",
    "print(classification_report(y_test, predictions))"
   ]
  },
  {
   "cell_type": "markdown",
   "metadata": {},
   "source": [
    "#### Comments:\n",
    "- dataset is extremely imbalanced- not enough positive cases to train on\n",
    "- signals are not strong enough\n",
    "- avg/total f1-score is ignored in these cases since it is not capturing the precision and recall for positive case, that has more weight in our analysis\n",
    "\n",
    "_____________________________________"
   ]
  },
  {
   "cell_type": "markdown",
   "metadata": {},
   "source": [
    "<font color=blue>\n",
    "### Techniques to address imbalanced data:\n",
    "</n>\n",
    "1. Split into training and test sets with stratified distribution on target (IsPaid)\n",
    "2. Upsample minority class (QPaid==1)\n",
    "3. Downsample majority class (QPaid==0)\n",
    "</font>\n",
    "______________________________________"
   ]
  },
  {
   "cell_type": "markdown",
   "metadata": {},
   "source": [
    "### <font color=blue> 1. Stratified distribution on target variable\n",
    "</font>"
   ]
  },
  {
   "cell_type": "code",
   "execution_count": 162,
   "metadata": {
    "collapsed": true
   },
   "outputs": [],
   "source": [
    "X_train, X_test, y_train, y_test = train_test_split(X, y, test_size=0.33, stratify=y, random_state=42)"
   ]
  },
  {
   "cell_type": "code",
   "execution_count": 163,
   "metadata": {},
   "outputs": [
    {
     "data": {
      "text/plain": [
       "0    309391\n",
       "1       764\n",
       "Name: QPaid, dtype: int64"
      ]
     },
     "execution_count": 163,
     "metadata": {},
     "output_type": "execute_result"
    }
   ],
   "source": [
    "y_train.value_counts()"
   ]
  },
  {
   "cell_type": "code",
   "execution_count": 164,
   "metadata": {},
   "outputs": [
    {
     "data": {
      "text/plain": [
       "0    152388\n",
       "1       376\n",
       "Name: QPaid, dtype: int64"
      ]
     },
     "execution_count": 164,
     "metadata": {},
     "output_type": "execute_result"
    }
   ],
   "source": [
    "y_test.value_counts()"
   ]
  },
  {
   "cell_type": "code",
   "execution_count": 167,
   "metadata": {},
   "outputs": [
    {
     "data": {
      "text/plain": [
       "RandomForestClassifier(bootstrap=True, class_weight=None, criterion='gini',\n",
       "            max_depth=None, max_features='auto', max_leaf_nodes=None,\n",
       "            min_impurity_decrease=0.0, min_impurity_split=None,\n",
       "            min_samples_leaf=1, min_samples_split=2,\n",
       "            min_weight_fraction_leaf=0.0, n_estimators=10, n_jobs=1,\n",
       "            oob_score=False, random_state=None, verbose=0,\n",
       "            warm_start=False)"
      ]
     },
     "execution_count": 167,
     "metadata": {},
     "output_type": "execute_result"
    }
   ],
   "source": [
    "clf.fit(X_train, y_train)"
   ]
  },
  {
   "cell_type": "code",
   "execution_count": 168,
   "metadata": {
    "collapsed": true
   },
   "outputs": [],
   "source": [
    "prediction_strat = clf.predict(X_test)"
   ]
  },
  {
   "cell_type": "code",
   "execution_count": 169,
   "metadata": {},
   "outputs": [
    {
     "name": "stdout",
     "output_type": "stream",
     "text": [
      "[[152303     85]\n",
      " [   375      1]]\n",
      "             precision    recall  f1-score   support\n",
      "\n",
      "          0       1.00      1.00      1.00    152388\n",
      "          1       0.01      0.00      0.00       376\n",
      "\n",
      "avg / total       1.00      1.00      1.00    152764\n",
      "\n"
     ]
    }
   ],
   "source": [
    "print(confusion_matrix(y_test, prediction_strat))\n",
    "print(classification_report(y_test, prediction_strat))"
   ]
  },
  {
   "cell_type": "markdown",
   "metadata": {},
   "source": [
    "#### Comments:\n",
    "- RFC performs the same or slightly worse with stratified distribution\n",
    "\n",
    "__________________________"
   ]
  },
  {
   "cell_type": "markdown",
   "metadata": {},
   "source": [
    "### <font color=blue> 2. Upsampling the minority class (QPaid==1) </font>\n",
    "- train test split with stratified distribution to ensure test set has QPaid==1 cases\n",
    "- recombine xtrain and ytrain and upsample\n",
    "- train model on upsampled data\n",
    "- test model on original test data"
   ]
  },
  {
   "cell_type": "code",
   "execution_count": 193,
   "metadata": {
    "collapsed": true
   },
   "outputs": [],
   "source": [
    "# stratified distribution on QPaid class\n",
    "X = df_new.drop(['QPaid'], axis=1)\n",
    "y = df_new['QPaid']\n",
    "X_train, X_test, y_train, y_test = train_test_split(X, y, test_size=0.33, stratify=y, random_state=42)"
   ]
  },
  {
   "cell_type": "code",
   "execution_count": 200,
   "metadata": {
    "collapsed": true
   },
   "outputs": [],
   "source": [
    "# recombine X_train and y_train into one dataframe for upsampling\n",
    "df_train = pd.concat([X_train, y_train], axis=1)"
   ]
  },
  {
   "cell_type": "code",
   "execution_count": 201,
   "metadata": {
    "collapsed": true
   },
   "outputs": [],
   "source": [
    "# separate majority and minority classes\n",
    "df_train_majority = df_train[df_train['QPaid']==0]\n",
    "df_train_minority = df_train[df_train['QPaid']==1]"
   ]
  },
  {
   "cell_type": "code",
   "execution_count": null,
   "metadata": {
    "collapsed": true
   },
   "outputs": [],
   "source": [
    "from sklearn.utils import resample"
   ]
  },
  {
   "cell_type": "code",
   "execution_count": 204,
   "metadata": {},
   "outputs": [
    {
     "name": "stdout",
     "output_type": "stream",
     "text": [
      "<class 'pandas.core.frame.DataFrame'>\n",
      "Int64Index: 309391 entries, 73626 to 460307\n",
      "Columns: 184 entries, ShowMealTime to QPaid\n",
      "dtypes: float64(1), int64(4), uint8(179)\n",
      "memory usage: 67.0 MB\n"
     ]
    }
   ],
   "source": [
    "df_train_majority.info()"
   ]
  },
  {
   "cell_type": "code",
   "execution_count": 206,
   "metadata": {
    "collapsed": true
   },
   "outputs": [],
   "source": [
    "# upsample minority training data to match majority training data\n",
    "df_train_minority_upsampled = resample(df_train_minority, replace=True, n_samples=309391, random_state=42)"
   ]
  },
  {
   "cell_type": "code",
   "execution_count": 207,
   "metadata": {
    "collapsed": true
   },
   "outputs": [],
   "source": [
    "# recombine all training data\n",
    "df_train_upsampled = pd.concat([df_train_majority, df_train_minority_upsampled])"
   ]
  },
  {
   "cell_type": "code",
   "execution_count": 208,
   "metadata": {
    "collapsed": true
   },
   "outputs": [],
   "source": [
    "# reset X_train and y_train\n",
    "X_train_upsampled = df_train_upsampled.drop(['QPaid'], axis=1)\n",
    "y_train_upsampled = df_train_upsampled['QPaid']"
   ]
  },
  {
   "cell_type": "code",
   "execution_count": 209,
   "metadata": {},
   "outputs": [
    {
     "data": {
      "text/plain": [
       "RandomForestClassifier(bootstrap=True, class_weight=None, criterion='gini',\n",
       "            max_depth=None, max_features='auto', max_leaf_nodes=None,\n",
       "            min_impurity_decrease=0.0, min_impurity_split=None,\n",
       "            min_samples_leaf=1, min_samples_split=2,\n",
       "            min_weight_fraction_leaf=0.0, n_estimators=10, n_jobs=1,\n",
       "            oob_score=False, random_state=None, verbose=0,\n",
       "            warm_start=False)"
      ]
     },
     "execution_count": 209,
     "metadata": {},
     "output_type": "execute_result"
    }
   ],
   "source": [
    "clf.fit(X_train_upsampled, y_train_upsampled)"
   ]
  },
  {
   "cell_type": "code",
   "execution_count": 211,
   "metadata": {
    "collapsed": true
   },
   "outputs": [],
   "source": [
    "prediction_upsample = clf.predict(X_test)"
   ]
  },
  {
   "cell_type": "code",
   "execution_count": 212,
   "metadata": {},
   "outputs": [
    {
     "name": "stdout",
     "output_type": "stream",
     "text": [
      "[[144116   8272]\n",
      " [   336     40]]\n",
      "             precision    recall  f1-score   support\n",
      "\n",
      "          0       1.00      0.95      0.97    152388\n",
      "          1       0.00      0.11      0.01       376\n",
      "\n",
      "avg / total       1.00      0.94      0.97    152764\n",
      "\n"
     ]
    }
   ],
   "source": [
    "print(confusion_matrix(y_test, prediction_upsample))\n",
    "print(classification_report(y_test, prediction_upsample))"
   ]
  },
  {
   "cell_type": "markdown",
   "metadata": {},
   "source": [
    "#### Comments:\n",
    "- Upsampling helps classifier perform better in predicting positive cases, but # of false positives increased by 100x \n",
    "\n",
    "_______________________"
   ]
  },
  {
   "cell_type": "markdown",
   "metadata": {},
   "source": [
    "### <font color=blue> 3. Downsampling of majority class (QPaid==0) </font>\n",
    "- train test split with stratified distribution to ensure test set has QPaid==1 cases\n",
    "- recombine xtrain and ytrain and downsample\n",
    "- train model on downsampled data\n",
    "- test model on original test data"
   ]
  },
  {
   "cell_type": "code",
   "execution_count": 214,
   "metadata": {},
   "outputs": [
    {
     "name": "stdout",
     "output_type": "stream",
     "text": [
      "<class 'pandas.core.frame.DataFrame'>\n",
      "Int64Index: 764 entries, 361115 to 12737\n",
      "Columns: 184 entries, ShowMealTime to QPaid\n",
      "dtypes: float64(1), int64(4), uint8(179)\n",
      "memory usage: 169.4 KB\n"
     ]
    }
   ],
   "source": [
    "df_train_minority.info()"
   ]
  },
  {
   "cell_type": "code",
   "execution_count": 215,
   "metadata": {
    "collapsed": true
   },
   "outputs": [],
   "source": [
    "df_train_majority_downsampled = resample(df_train_majority, replace=False, n_samples=764, random_state=42)"
   ]
  },
  {
   "cell_type": "code",
   "execution_count": 216,
   "metadata": {
    "collapsed": true
   },
   "outputs": [],
   "source": [
    "df_train_downsampled = pd.concat([df_train_majority_downsampled, df_train_minority])"
   ]
  },
  {
   "cell_type": "code",
   "execution_count": 217,
   "metadata": {
    "collapsed": true
   },
   "outputs": [],
   "source": [
    "X_train_downsampled = df_train_downsampled.drop(['QPaid'], axis=1)\n",
    "y_train_downsampled = df_train_downsampled['QPaid']"
   ]
  },
  {
   "cell_type": "code",
   "execution_count": 218,
   "metadata": {},
   "outputs": [
    {
     "data": {
      "text/plain": [
       "RandomForestClassifier(bootstrap=True, class_weight=None, criterion='gini',\n",
       "            max_depth=None, max_features='auto', max_leaf_nodes=None,\n",
       "            min_impurity_decrease=0.0, min_impurity_split=None,\n",
       "            min_samples_leaf=1, min_samples_split=2,\n",
       "            min_weight_fraction_leaf=0.0, n_estimators=10, n_jobs=1,\n",
       "            oob_score=False, random_state=None, verbose=0,\n",
       "            warm_start=False)"
      ]
     },
     "execution_count": 218,
     "metadata": {},
     "output_type": "execute_result"
    }
   ],
   "source": [
    "clf.fit(X_train_downsampled, y_train_downsampled)"
   ]
  },
  {
   "cell_type": "code",
   "execution_count": 220,
   "metadata": {
    "collapsed": true
   },
   "outputs": [],
   "source": [
    "prediction_downsample = clf.predict(X_test)"
   ]
  },
  {
   "cell_type": "code",
   "execution_count": 221,
   "metadata": {},
   "outputs": [
    {
     "name": "stdout",
     "output_type": "stream",
     "text": [
      "[[114095  38293]\n",
      " [   140    236]]\n",
      "             precision    recall  f1-score   support\n",
      "\n",
      "          0       1.00      0.75      0.86    152388\n",
      "          1       0.01      0.63      0.01       376\n",
      "\n",
      "avg / total       1.00      0.75      0.85    152764\n",
      "\n"
     ]
    }
   ],
   "source": [
    "print(confusion_matrix(y_test, prediction_downsample))\n",
    "print(classification_report(y_test, prediction_downsample))"
   ]
  },
  {
   "cell_type": "markdown",
   "metadata": {},
   "source": [
    "#### Comments:\n",
    "- downsampling the majority class causes classifier to perform better in terms of recall and precision for target class\n",
    "- correctly predicts more positive cases, but also predicts 10x more false positives than when the minority class was upsampled"
   ]
  },
  {
   "cell_type": "markdown",
   "metadata": {},
   "source": [
    "### <font color=blue> Summary: </font>\n",
    "In this case, false positives are more acceptable than false negatives (Type I error preferred over Type II error).  By correcting predicting positive cases, specific incentives can be targetted towards these users with little detriment to targetting users to would not subscribe in the first place."
   ]
  }
 ],
 "metadata": {
  "kernelspec": {
   "display_name": "Python 3",
   "language": "python",
   "name": "python3"
  },
  "language_info": {
   "codemirror_mode": {
    "name": "ipython",
    "version": 3
   },
   "file_extension": ".py",
   "mimetype": "text/x-python",
   "name": "python",
   "nbconvert_exporter": "python",
   "pygments_lexer": "ipython3",
   "version": "3.6.1"
  }
 },
 "nbformat": 4,
 "nbformat_minor": 2
}
