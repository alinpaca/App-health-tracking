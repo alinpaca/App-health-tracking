{
 "cells": [
  {
   "cell_type": "markdown",
   "metadata": {},
   "source": [
    "### Background:\n",
    "Dataset of personal health tracking app including system/device information and personalized app attributes from each user and app installation.\n",
    "### Purpose of this notebook:\n",
    "- Exploratory data analysis\n",
    "- Clean up raw data\n",
    "- Add new features"
   ]
  },
  {
   "cell_type": "code",
   "execution_count": 3,
   "metadata": {
    "collapsed": true
   },
   "outputs": [],
   "source": [
    "# import libraries\n",
    "import numpy as np\n",
    "import pandas as pd\n",
    "import matplotlib.pyplot as plt\n",
    "%matplotlib inline\n",
    "import seaborn as sns"
   ]
  },
  {
   "cell_type": "code",
   "execution_count": 4,
   "metadata": {
    "collapsed": true
   },
   "outputs": [],
   "source": [
    "# read Excel file and save as pickle\n",
    "df = pd.read_excel('App Stats 2018-03-16.xlsx', sheetname='Sheet1')\n",
    "df.to_pickle('df_2018-03-16')"
   ]
  },
  {
   "cell_type": "code",
   "execution_count": 5,
   "metadata": {
    "collapsed": true
   },
   "outputs": [],
   "source": [
    "df = pd.read_pickle('df_2018-03-16')"
   ]
  },
  {
   "cell_type": "code",
   "execution_count": 4,
   "metadata": {},
   "outputs": [
    {
     "data": {
      "text/plain": [
       "0.0034412003590817766"
      ]
     },
     "execution_count": 4,
     "metadata": {},
     "output_type": "execute_result"
    }
   ],
   "source": [
    "# conversion rate 0.34%, according to PM, this is average/good for this type of app\n",
    "df[df['IsPaid']==True]['IsPaid'].count()/df['IsPaid'].count()"
   ]
  },
  {
   "cell_type": "code",
   "execution_count": 5,
   "metadata": {},
   "outputs": [
    {
     "name": "stdout",
     "output_type": "stream",
     "text": [
      "<class 'pandas.core.frame.DataFrame'>\n",
      "RangeIndex: 888934 entries, 0 to 888933\n",
      "Data columns (total 59 columns):\n",
      "ID                              888934 non-null object\n",
      "Class                           54464 non-null object\n",
      "InstallDate                     888934 non-null datetime64[ns]\n",
      "LastSavedUTC                    888934 non-null object\n",
      "LastSync                        888934 non-null object\n",
      "Platform                        888934 non-null object\n",
      "FirstInstalledVersion           888817 non-null object\n",
      "DaysSinceInstall                888934 non-null int64\n",
      "SessionCount                    888934 non-null int64\n",
      "ExperimentID                    888934 non-null int64\n",
      "Experiment                      888934 non-null object\n",
      "MinLockedBottom                 888934 non-null int64\n",
      "LockedBottom                    888934 non-null int64\n",
      "LockedBottomDelta               888934 non-null int64\n",
      "LockedTop                       888934 non-null int64\n",
      "Variation                       75062 non-null object\n",
      "PriceOptions                    188081 non-null object\n",
      "PriceSkus                       887354 non-null object\n",
      "Tier                            693948 non-null object\n",
      "OfferFree                       888934 non-null bool\n",
      "SingleProduct                   777109 non-null object\n",
      "TwoProducts                     887354 non-null object\n",
      "UICulture                       888934 non-null object\n",
      "Language                        888934 non-null object\n",
      "IsPaid                          888934 non-null bool\n",
      "LastProduct                     2370 non-null object\n",
      "LastProductValue                2321 non-null float64\n",
      "LastPurchaseDate                888934 non-null object\n",
      "LastPurchaseDaysSinceInstall    3059 non-null float64\n",
      "LastDiscount                    436 non-null float64\n",
      "LastExpired                     888934 non-null object\n",
      "FirstAvailableStoreProduct      763013 non-null object\n",
      "AvailableStoreProducts          763014 non-null float64\n",
      "FirstPrice                      762980 non-null object\n",
      "Feedback.FirstRating            58644 non-null float64\n",
      "Feedback.RatingCount            91207 non-null float64\n",
      "Feedback.LastRating             38004 non-null float64\n",
      "LastOnboardingScreen            815808 non-null object\n",
      "PriceStrategy                   730948 non-null object\n",
      "ActionUnlockRequestCount        888934 non-null int64\n",
      "ActionUnlockRequestValue        888934 non-null float64\n",
      "FailedDBRequests                888934 non-null int64\n",
      "TotalValue                      888934 non-null float64\n",
      "InstalledDBVersion              888934 non-null int64\n",
      "Gender                          888934 non-null object\n",
      "AgeWhenGoalsSet                 888934 non-null int64\n",
      "DailyGoalCount                  888934 non-null int64\n",
      "Program                         888934 non-null object\n",
      "ReminderFrequency               888934 non-null object\n",
      "SelectedTotal                   888934 non-null object\n",
      "ShowMealTime                    888934 non-null bool\n",
      "ExerciseFrequency               888934 non-null object\n",
      "Height                          888934 non-null float64\n",
      "LastWeight                      888934 non-null float64\n",
      "TargetWeight                    888934 non-null float64\n",
      "HeightUnit                      888934 non-null object\n",
      "WeightUnit                      888934 non-null object\n",
      "EnergyUnit                      888934 non-null object\n",
      "OnboardingGoal                  888934 non-null object\n",
      "dtypes: bool(3), datetime64[ns](1), float64(12), int64(12), object(31)\n",
      "memory usage: 382.3+ MB\n"
     ]
    }
   ],
   "source": [
    "df.info()"
   ]
  },
  {
   "cell_type": "code",
   "execution_count": 7,
   "metadata": {},
   "outputs": [
    {
     "data": {
      "text/plain": [
       "<matplotlib.axes._subplots.AxesSubplot at 0x118b55da0>"
      ]
     },
     "execution_count": 7,
     "metadata": {},
     "output_type": "execute_result"
    },
    {
     "data": {
      "image/png": "[encoded data removed]",
      "text/plain": [
       "<matplotlib.figure.Figure at 0x14bd51780>"
      ]
     },
     "metadata": {},
     "output_type": "display_data"
    }
   ],
   "source": [
    "# Visual representation of where the missing data is. This graph does not include zero values\n",
    "plt.figure(figsize=(12,6))\n",
    "sns.heatmap(df.isnull(), yticklabels=False, cbar=False, cmap='viridis')"
   ]
  },
  {
   "cell_type": "markdown",
   "metadata": {},
   "source": [
    "# Exploratory data analysis\n",
    "Which features might be used in a pricing model and/or predicting user conversion? Looking for any signals in the data."
   ]
  },
  {
   "cell_type": "markdown",
   "metadata": {},
   "source": [
    "## Device features:"
   ]
  },
  {
   "cell_type": "markdown",
   "metadata": {},
   "source": [
    "### Platform\n",
    "- iOS users 6x more likely to purchase product compared to Android users"
   ]
  },
  {
   "cell_type": "code",
   "execution_count": 256,
   "metadata": {},
   "outputs": [
    {
     "data": {
      "text/html": [
       "<div>\n",
       "<style>\n",
       "    .dataframe thead tr:only-child th {\n",
       "        text-align: right;\n",
       "    }\n",
       "\n",
       "    .dataframe thead th {\n",
       "        text-align: left;\n",
       "    }\n",
       "\n",
       "    .dataframe tbody tr th {\n",
       "        vertical-align: top;\n",
       "    }\n",
       "</style>\n",
       "<table border=\"1\" class=\"dataframe\">\n",
       "  <thead>\n",
       "    <tr style=\"text-align: right;\">\n",
       "      <th></th>\n",
       "      <th>count</th>\n",
       "      <th>mean</th>\n",
       "      <th>std</th>\n",
       "    </tr>\n",
       "    <tr>\n",
       "      <th>Platform</th>\n",
       "      <th></th>\n",
       "      <th></th>\n",
       "      <th></th>\n",
       "    </tr>\n",
       "  </thead>\n",
       "  <tbody>\n",
       "    <tr>\n",
       "      <th>Android</th>\n",
       "      <td>865414</td>\n",
       "      <td>0.003045</td>\n",
       "      <td>0.055096</td>\n",
       "    </tr>\n",
       "    <tr>\n",
       "      <th>iOS</th>\n",
       "      <td>23520</td>\n",
       "      <td>0.018027</td>\n",
       "      <td>0.133053</td>\n",
       "    </tr>\n",
       "  </tbody>\n",
       "</table>\n",
       "</div>"
      ],
      "text/plain": [
       "           count      mean       std\n",
       "Platform                            \n",
       "Android   865414  0.003045  0.055096\n",
       "iOS        23520  0.018027  0.133053"
      ]
     },
     "execution_count": 256,
     "metadata": {},
     "output_type": "execute_result"
    }
   ],
   "source": [
    "pivot_by_platform = pd.pivot_table(df, index='Platform', values='IsPaid', aggfunc=('count','mean','std'))\n",
    "pivot_by_platform"
   ]
  },
  {
   "cell_type": "code",
   "execution_count": null,
   "metadata": {},
   "outputs": [],
   "source": [
    "# REDO THIS SECTION! t-test is the wrong test to do. Do N-1 two proportion test"
   ]
  },
  {
   "cell_type": "code",
   "execution_count": 285,
   "metadata": {
    "collapsed": true
   },
   "outputs": [],
   "source": [
    "# Sample size is large but we can use this as an example.\n",
    "# Example: check for statistical significance using t-test\n",
    "# Ho (null hypothesis) = means for Android and iOS groups are the same\n",
    "# Ha (alterntive hypothesis) = means are different\n",
    "# two-tailed test"
   ]
  },
  {
   "cell_type": "code",
   "execution_count": 257,
   "metadata": {
    "collapsed": true
   },
   "outputs": [],
   "source": [
    "from scipy.stats import ttest_ind, ttest_ind_from_stats"
   ]
  },
  {
   "cell_type": "code",
   "execution_count": 271,
   "metadata": {},
   "outputs": [
    {
     "name": "stdout",
     "output_type": "stream",
     "text": [
      "t =  -17.2293131789\n",
      "p =  4.0422808836e-66\n"
     ]
    }
   ],
   "source": [
    "a = df[df['Platform']=='Android']['IsPaid']\n",
    "b = df[df['Platform']=='iOS']['IsPaid']\n",
    "t, p = ttest_ind(a, b, equal_var=False)\n",
    "print('t = ', t)\n",
    "print('p = ', p)"
   ]
  },
  {
   "cell_type": "code",
   "execution_count": 282,
   "metadata": {},
   "outputs": [
    {
     "name": "stdout",
     "output_type": "stream",
     "text": [
      "t:  -17.2293131789\n",
      "p:  4.04228088361e-66\n"
     ]
    }
   ],
   "source": [
    "t2, p2 = ttest_ind_from_stats(pivot_by_platform.iloc[0,1], pivot_by_platform.iloc[0,2], pivot_by_platform.iloc[0,0], \n",
    "                             pivot_by_platform.iloc[1,1], pivot_by_platform.iloc[1,2], pivot_by_platform.iloc[1,0], \n",
    "                              equal_var=False)\n",
    "print('t: ', t2)\n",
    "print('p: ', p2)"
   ]
  },
  {
   "cell_type": "markdown",
   "metadata": {},
   "source": [
    "### Free offer product\n",
    "- conversion rate for those who were offered 'free' product (trial w/ full access to app features) is 0.71% compared to 0.24% for those not offered trial"
   ]
  },
  {
   "cell_type": "code",
   "execution_count": 248,
   "metadata": {},
   "outputs": [
    {
     "data": {
      "text/html": [
       "<div>\n",
       "<style>\n",
       "    .dataframe thead tr:only-child th {\n",
       "        text-align: right;\n",
       "    }\n",
       "\n",
       "    .dataframe thead th {\n",
       "        text-align: left;\n",
       "    }\n",
       "\n",
       "    .dataframe tbody tr th {\n",
       "        vertical-align: top;\n",
       "    }\n",
       "</style>\n",
       "<table border=\"1\" class=\"dataframe\">\n",
       "  <thead>\n",
       "    <tr style=\"text-align: right;\">\n",
       "      <th></th>\n",
       "      <th>total installs</th>\n",
       "      <th>conversion rate</th>\n",
       "    </tr>\n",
       "    <tr>\n",
       "      <th>OfferFree</th>\n",
       "      <th></th>\n",
       "      <th></th>\n",
       "    </tr>\n",
       "  </thead>\n",
       "  <tbody>\n",
       "    <tr>\n",
       "      <th>False</th>\n",
       "      <td>699277</td>\n",
       "      <td>0.24</td>\n",
       "    </tr>\n",
       "    <tr>\n",
       "      <th>True</th>\n",
       "      <td>189657</td>\n",
       "      <td>0.71</td>\n",
       "    </tr>\n",
       "  </tbody>\n",
       "</table>\n",
       "</div>"
      ],
      "text/plain": [
       "           total installs  conversion rate\n",
       "OfferFree                                 \n",
       "False              699277             0.24\n",
       "True               189657             0.71"
      ]
     },
     "execution_count": 248,
     "metadata": {},
     "output_type": "execute_result"
    }
   ],
   "source": [
    "pivot_by_offer = pd.pivot_table(df, index='OfferFree', values='IsPaid', aggfunc=('count','mean'))\n",
    "pivot_by_offer['mean'] = (pivot_by_offer['mean'].round(decimals=4))*100\n",
    "pivot_by_offer.columns = ['total installs','conversion rate']\n",
    "pivot_by_offer"
   ]
  },
  {
   "cell_type": "markdown",
   "metadata": {},
   "source": [
    "### UICulture\n",
    " - different conversion (subscription) rates for countries likely arises from difference in average app spending and relative competition (availability of similar apps in each language)"
   ]
  },
  {
   "cell_type": "code",
   "execution_count": 8,
   "metadata": {
    "collapsed": true
   },
   "outputs": [],
   "source": [
    "# list of top 20 UICultures with the most users\n",
    "top_20_UICultures = df['UICulture'].value_counts().head(20).index.tolist()"
   ]
  },
  {
   "cell_type": "code",
   "execution_count": 9,
   "metadata": {
    "collapsed": true
   },
   "outputs": [],
   "source": [
    "pivot_UICulture = pd.pivot_table(df[df['UICulture'].isin(top_20_UICultures)], index='UICulture', values='IsPaid', aggfunc=('count','mean'))\n"
   ]
  },
  {
   "cell_type": "code",
   "execution_count": 10,
   "metadata": {
    "collapsed": true
   },
   "outputs": [],
   "source": [
    "pivot_UICulture = pivot_UICulture.reindex(pivot_UICulture['count'].sort_values(ascending=False).index)"
   ]
  },
  {
   "cell_type": "code",
   "execution_count": 244,
   "metadata": {
    "collapsed": true
   },
   "outputs": [],
   "source": [
    "pivot_UICulture['mean'] = (pivot_UICulture['mean'].round(decimals=4))*100\n",
    "pivot_UICulture.columns = ['total installs','conversion rate']"
   ]
  },
  {
   "cell_type": "code",
   "execution_count": 245,
   "metadata": {},
   "outputs": [
    {
     "data": {
      "text/html": [
       "<div>\n",
       "<style>\n",
       "    .dataframe thead tr:only-child th {\n",
       "        text-align: right;\n",
       "    }\n",
       "\n",
       "    .dataframe thead th {\n",
       "        text-align: left;\n",
       "    }\n",
       "\n",
       "    .dataframe tbody tr th {\n",
       "        vertical-align: top;\n",
       "    }\n",
       "</style>\n",
       "<table border=\"1\" class=\"dataframe\">\n",
       "  <thead>\n",
       "    <tr style=\"text-align: right;\">\n",
       "      <th></th>\n",
       "      <th>total installs</th>\n",
       "      <th>conversion rate</th>\n",
       "    </tr>\n",
       "    <tr>\n",
       "      <th>UICulture</th>\n",
       "      <th></th>\n",
       "      <th></th>\n",
       "    </tr>\n",
       "  </thead>\n",
       "  <tbody>\n",
       "    <tr>\n",
       "      <th>ru-RU</th>\n",
       "      <td>128585</td>\n",
       "      <td>0.21</td>\n",
       "    </tr>\n",
       "    <tr>\n",
       "      <th>pt-BR</th>\n",
       "      <td>97854</td>\n",
       "      <td>0.11</td>\n",
       "    </tr>\n",
       "    <tr>\n",
       "      <th>en-US</th>\n",
       "      <td>58092</td>\n",
       "      <td>0.72</td>\n",
       "    </tr>\n",
       "    <tr>\n",
       "      <th>pl-PL</th>\n",
       "      <td>46777</td>\n",
       "      <td>0.21</td>\n",
       "    </tr>\n",
       "    <tr>\n",
       "      <th>de-DE</th>\n",
       "      <td>36585</td>\n",
       "      <td>0.66</td>\n",
       "    </tr>\n",
       "    <tr>\n",
       "      <th>fr-FR</th>\n",
       "      <td>36446</td>\n",
       "      <td>0.31</td>\n",
       "    </tr>\n",
       "    <tr>\n",
       "      <th>it-IT</th>\n",
       "      <td>34117</td>\n",
       "      <td>0.49</td>\n",
       "    </tr>\n",
       "    <tr>\n",
       "      <th>en-GB</th>\n",
       "      <td>32155</td>\n",
       "      <td>0.68</td>\n",
       "    </tr>\n",
       "    <tr>\n",
       "      <th>ro-RO</th>\n",
       "      <td>30537</td>\n",
       "      <td>0.47</td>\n",
       "    </tr>\n",
       "    <tr>\n",
       "      <th>es-US</th>\n",
       "      <td>27775</td>\n",
       "      <td>0.14</td>\n",
       "    </tr>\n",
       "    <tr>\n",
       "      <th>cs-CZ</th>\n",
       "      <td>27120</td>\n",
       "      <td>0.23</td>\n",
       "    </tr>\n",
       "    <tr>\n",
       "      <th>el-GR</th>\n",
       "      <td>24572</td>\n",
       "      <td>0.17</td>\n",
       "    </tr>\n",
       "    <tr>\n",
       "      <th>hu-HU</th>\n",
       "      <td>23016</td>\n",
       "      <td>0.36</td>\n",
       "    </tr>\n",
       "    <tr>\n",
       "      <th>es-ES</th>\n",
       "      <td>22992</td>\n",
       "      <td>0.20</td>\n",
       "    </tr>\n",
       "    <tr>\n",
       "      <th>uk-UA</th>\n",
       "      <td>21746</td>\n",
       "      <td>0.09</td>\n",
       "    </tr>\n",
       "    <tr>\n",
       "      <th>bg-BG</th>\n",
       "      <td>18388</td>\n",
       "      <td>0.30</td>\n",
       "    </tr>\n",
       "    <tr>\n",
       "      <th>vi-VN</th>\n",
       "      <td>16102</td>\n",
       "      <td>0.19</td>\n",
       "    </tr>\n",
       "    <tr>\n",
       "      <th>sr</th>\n",
       "      <td>12397</td>\n",
       "      <td>0.01</td>\n",
       "    </tr>\n",
       "    <tr>\n",
       "      <th>sk-SK</th>\n",
       "      <td>12256</td>\n",
       "      <td>0.33</td>\n",
       "    </tr>\n",
       "    <tr>\n",
       "      <th>nl-NL</th>\n",
       "      <td>11230</td>\n",
       "      <td>0.62</td>\n",
       "    </tr>\n",
       "  </tbody>\n",
       "</table>\n",
       "</div>"
      ],
      "text/plain": [
       "           total installs  conversion rate\n",
       "UICulture                                 \n",
       "ru-RU              128585             0.21\n",
       "pt-BR               97854             0.11\n",
       "en-US               58092             0.72\n",
       "pl-PL               46777             0.21\n",
       "de-DE               36585             0.66\n",
       "fr-FR               36446             0.31\n",
       "it-IT               34117             0.49\n",
       "en-GB               32155             0.68\n",
       "ro-RO               30537             0.47\n",
       "es-US               27775             0.14\n",
       "cs-CZ               27120             0.23\n",
       "el-GR               24572             0.17\n",
       "hu-HU               23016             0.36\n",
       "es-ES               22992             0.20\n",
       "uk-UA               21746             0.09\n",
       "bg-BG               18388             0.30\n",
       "vi-VN               16102             0.19\n",
       "sr                  12397             0.01\n",
       "sk-SK               12256             0.33\n",
       "nl-NL               11230             0.62"
      ]
     },
     "execution_count": 245,
     "metadata": {},
     "output_type": "execute_result"
    }
   ],
   "source": [
    "pivot_UICulture"
   ]
  },
  {
   "cell_type": "markdown",
   "metadata": {},
   "source": [
    "### Variation"
   ]
  },
  {
   "cell_type": "code",
   "execution_count": 343,
   "metadata": {},
   "outputs": [
    {
     "data": {
      "text/html": [
       "<div>\n",
       "<style>\n",
       "    .dataframe thead tr:only-child th {\n",
       "        text-align: right;\n",
       "    }\n",
       "\n",
       "    .dataframe thead th {\n",
       "        text-align: left;\n",
       "    }\n",
       "\n",
       "    .dataframe tbody tr th {\n",
       "        vertical-align: top;\n",
       "    }\n",
       "</style>\n",
       "<table border=\"1\" class=\"dataframe\">\n",
       "  <thead>\n",
       "    <tr style=\"text-align: right;\">\n",
       "      <th></th>\n",
       "      <th>count</th>\n",
       "      <th>mean</th>\n",
       "    </tr>\n",
       "    <tr>\n",
       "      <th>Variation</th>\n",
       "      <th></th>\n",
       "      <th></th>\n",
       "    </tr>\n",
       "  </thead>\n",
       "  <tbody>\n",
       "    <tr>\n",
       "      <th>1,1,Default</th>\n",
       "      <td>24943</td>\n",
       "      <td>0.013230</td>\n",
       "    </tr>\n",
       "    <tr>\n",
       "      <th>1,2,Vary</th>\n",
       "      <td>16511</td>\n",
       "      <td>0.002544</td>\n",
       "    </tr>\n",
       "    <tr>\n",
       "      <th>1,3,Is3</th>\n",
       "      <td>16838</td>\n",
       "      <td>0.002673</td>\n",
       "    </tr>\n",
       "    <tr>\n",
       "      <th>1,4,Is4</th>\n",
       "      <td>16770</td>\n",
       "      <td>0.002624</td>\n",
       "    </tr>\n",
       "  </tbody>\n",
       "</table>\n",
       "</div>"
      ],
      "text/plain": [
       "             count      mean\n",
       "Variation                   \n",
       "1,1,Default  24943  0.013230\n",
       "1,2,Vary     16511  0.002544\n",
       "1,3,Is3      16838  0.002673\n",
       "1,4,Is4      16770  0.002624"
      ]
     },
     "execution_count": 343,
     "metadata": {},
     "output_type": "execute_result"
    }
   ],
   "source": [
    "pd.pivot_table(df, index='Variation', values='IsPaid', aggfunc=('count', 'mean'))"
   ]
  },
  {
   "cell_type": "markdown",
   "metadata": {},
   "source": [
    "### LockedBottom "
   ]
  },
  {
   "cell_type": "code",
   "execution_count": 344,
   "metadata": {},
   "outputs": [
    {
     "data": {
      "text/html": [
       "<div>\n",
       "<style>\n",
       "    .dataframe thead tr:only-child th {\n",
       "        text-align: right;\n",
       "    }\n",
       "\n",
       "    .dataframe thead th {\n",
       "        text-align: left;\n",
       "    }\n",
       "\n",
       "    .dataframe tbody tr th {\n",
       "        vertical-align: top;\n",
       "    }\n",
       "</style>\n",
       "<table border=\"1\" class=\"dataframe\">\n",
       "  <thead>\n",
       "    <tr style=\"text-align: right;\">\n",
       "      <th></th>\n",
       "      <th>count</th>\n",
       "      <th>mean</th>\n",
       "    </tr>\n",
       "    <tr>\n",
       "      <th>LockedBottom</th>\n",
       "      <th></th>\n",
       "      <th></th>\n",
       "    </tr>\n",
       "  </thead>\n",
       "  <tbody>\n",
       "    <tr>\n",
       "      <th>0</th>\n",
       "      <td>7411</td>\n",
       "      <td>0.017137</td>\n",
       "    </tr>\n",
       "    <tr>\n",
       "      <th>1</th>\n",
       "      <td>45453</td>\n",
       "      <td>0.005346</td>\n",
       "    </tr>\n",
       "    <tr>\n",
       "      <th>2</th>\n",
       "      <td>259704</td>\n",
       "      <td>0.002907</td>\n",
       "    </tr>\n",
       "    <tr>\n",
       "      <th>3</th>\n",
       "      <td>416487</td>\n",
       "      <td>0.003124</td>\n",
       "    </tr>\n",
       "    <tr>\n",
       "      <th>4</th>\n",
       "      <td>156434</td>\n",
       "      <td>0.003957</td>\n",
       "    </tr>\n",
       "    <tr>\n",
       "      <th>5</th>\n",
       "      <td>3445</td>\n",
       "      <td>0.004064</td>\n",
       "    </tr>\n",
       "  </tbody>\n",
       "</table>\n",
       "</div>"
      ],
      "text/plain": [
       "               count      mean\n",
       "LockedBottom                  \n",
       "0               7411  0.017137\n",
       "1              45453  0.005346\n",
       "2             259704  0.002907\n",
       "3             416487  0.003124\n",
       "4             156434  0.003957\n",
       "5               3445  0.004064"
      ]
     },
     "execution_count": 344,
     "metadata": {},
     "output_type": "execute_result"
    }
   ],
   "source": [
    "pd.pivot_table(df, index='LockedBottom', values='IsPaid', aggfunc=('count', 'mean'))"
   ]
  },
  {
   "cell_type": "markdown",
   "metadata": {},
   "source": [
    "### Session count\n",
    "- even amongst paid users, large drop after 20 app sessions -- suggests app retention and/or user compliance issue"
   ]
  },
  {
   "cell_type": "code",
   "execution_count": 237,
   "metadata": {},
   "outputs": [
    {
     "data": {
      "text/plain": [
       "(0, 600)"
      ]
     },
     "execution_count": 237,
     "metadata": {},
     "output_type": "execute_result"
    },
    {
     "data": {
      "image/png": "[encoded data removed]",
      "text/plain": [
       "<matplotlib.figure.Figure at 0x114b82048>"
      ]
     },
     "metadata": {},
     "output_type": "display_data"
    }
   ],
   "source": [
    "df[df['IsPaid']==True]['SessionCount'].plot.hist(bins=500)\n",
    "plt.xlim(0,600)"
   ]
  },
  {
   "cell_type": "markdown",
   "metadata": {},
   "source": [
    "### InstallDate\n",
    "- number of installs jumped up at end of year/beginning of new year attributed to better download funnel (higher ratings, higher placing in search results) and seasonal differences (new year's resolutions)\n",
    "- drop in conversion rate over time suggests difference between early and later users and maybe app competition\n",
    "- data after 4-2018 is invalid, dataset only contains data up to 3-2018"
   ]
  },
  {
   "cell_type": "code",
   "execution_count": 233,
   "metadata": {
    "collapsed": true
   },
   "outputs": [],
   "source": [
    "Conversion_by_date = pd.pivot_table(df, index=[df['InstallDate'].dt.year, df['InstallDate'].dt.month],\n",
    "                                    values='IsPaid', aggfunc=('count', 'mean'))"
   ]
  },
  {
   "cell_type": "code",
   "execution_count": 234,
   "metadata": {
    "collapsed": true
   },
   "outputs": [],
   "source": [
    "Conversion_by_date['mean'] = (Conversion_by_date['mean'].round(decimals=4))*100"
   ]
  },
  {
   "cell_type": "code",
   "execution_count": 235,
   "metadata": {
    "collapsed": true
   },
   "outputs": [],
   "source": [
    "Conversion_by_date.columns = ['total installs', 'conversion rate']"
   ]
  },
  {
   "cell_type": "code",
   "execution_count": 236,
   "metadata": {},
   "outputs": [
    {
     "data": {
      "text/html": [
       "<div>\n",
       "<style>\n",
       "    .dataframe thead tr:only-child th {\n",
       "        text-align: right;\n",
       "    }\n",
       "\n",
       "    .dataframe thead th {\n",
       "        text-align: left;\n",
       "    }\n",
       "\n",
       "    .dataframe tbody tr th {\n",
       "        vertical-align: top;\n",
       "    }\n",
       "</style>\n",
       "<table border=\"1\" class=\"dataframe\">\n",
       "  <thead>\n",
       "    <tr style=\"text-align: right;\">\n",
       "      <th></th>\n",
       "      <th></th>\n",
       "      <th>total installs</th>\n",
       "      <th>conversion rate</th>\n",
       "    </tr>\n",
       "    <tr>\n",
       "      <th>InstallDate</th>\n",
       "      <th>InstallDate</th>\n",
       "      <th></th>\n",
       "      <th></th>\n",
       "    </tr>\n",
       "  </thead>\n",
       "  <tbody>\n",
       "    <tr>\n",
       "      <th>1999</th>\n",
       "      <th>12</th>\n",
       "      <td>1</td>\n",
       "      <td>0.00</td>\n",
       "    </tr>\n",
       "    <tr>\n",
       "      <th>2009</th>\n",
       "      <th>12</th>\n",
       "      <td>4</td>\n",
       "      <td>0.00</td>\n",
       "    </tr>\n",
       "    <tr>\n",
       "      <th>2011</th>\n",
       "      <th>12</th>\n",
       "      <td>1</td>\n",
       "      <td>0.00</td>\n",
       "    </tr>\n",
       "    <tr>\n",
       "      <th rowspan=\"2\" valign=\"top\">2013</th>\n",
       "      <th>5</th>\n",
       "      <td>1</td>\n",
       "      <td>0.00</td>\n",
       "    </tr>\n",
       "    <tr>\n",
       "      <th>12</th>\n",
       "      <td>1</td>\n",
       "      <td>0.00</td>\n",
       "    </tr>\n",
       "    <tr>\n",
       "      <th rowspan=\"2\" valign=\"top\">2014</th>\n",
       "      <th>1</th>\n",
       "      <td>1</td>\n",
       "      <td>0.00</td>\n",
       "    </tr>\n",
       "    <tr>\n",
       "      <th>12</th>\n",
       "      <td>8</td>\n",
       "      <td>0.00</td>\n",
       "    </tr>\n",
       "    <tr>\n",
       "      <th rowspan=\"2\" valign=\"top\">2015</th>\n",
       "      <th>1</th>\n",
       "      <td>3</td>\n",
       "      <td>0.00</td>\n",
       "    </tr>\n",
       "    <tr>\n",
       "      <th>12</th>\n",
       "      <td>6</td>\n",
       "      <td>0.00</td>\n",
       "    </tr>\n",
       "    <tr>\n",
       "      <th rowspan=\"12\" valign=\"top\">2016</th>\n",
       "      <th>1</th>\n",
       "      <td>10</td>\n",
       "      <td>10.00</td>\n",
       "    </tr>\n",
       "    <tr>\n",
       "      <th>2</th>\n",
       "      <td>13</td>\n",
       "      <td>38.46</td>\n",
       "    </tr>\n",
       "    <tr>\n",
       "      <th>3</th>\n",
       "      <td>7</td>\n",
       "      <td>0.00</td>\n",
       "    </tr>\n",
       "    <tr>\n",
       "      <th>4</th>\n",
       "      <td>21</td>\n",
       "      <td>0.00</td>\n",
       "    </tr>\n",
       "    <tr>\n",
       "      <th>5</th>\n",
       "      <td>18</td>\n",
       "      <td>0.00</td>\n",
       "    </tr>\n",
       "    <tr>\n",
       "      <th>6</th>\n",
       "      <td>37</td>\n",
       "      <td>21.62</td>\n",
       "    </tr>\n",
       "    <tr>\n",
       "      <th>7</th>\n",
       "      <td>27</td>\n",
       "      <td>7.41</td>\n",
       "    </tr>\n",
       "    <tr>\n",
       "      <th>8</th>\n",
       "      <td>45</td>\n",
       "      <td>8.89</td>\n",
       "    </tr>\n",
       "    <tr>\n",
       "      <th>9</th>\n",
       "      <td>52</td>\n",
       "      <td>9.62</td>\n",
       "    </tr>\n",
       "    <tr>\n",
       "      <th>10</th>\n",
       "      <td>79</td>\n",
       "      <td>7.59</td>\n",
       "    </tr>\n",
       "    <tr>\n",
       "      <th>11</th>\n",
       "      <td>64</td>\n",
       "      <td>4.69</td>\n",
       "    </tr>\n",
       "    <tr>\n",
       "      <th>12</th>\n",
       "      <td>93</td>\n",
       "      <td>2.15</td>\n",
       "    </tr>\n",
       "    <tr>\n",
       "      <th rowspan=\"12\" valign=\"top\">2017</th>\n",
       "      <th>1</th>\n",
       "      <td>278</td>\n",
       "      <td>3.24</td>\n",
       "    </tr>\n",
       "    <tr>\n",
       "      <th>2</th>\n",
       "      <td>306</td>\n",
       "      <td>4.25</td>\n",
       "    </tr>\n",
       "    <tr>\n",
       "      <th>3</th>\n",
       "      <td>465</td>\n",
       "      <td>13.98</td>\n",
       "    </tr>\n",
       "    <tr>\n",
       "      <th>4</th>\n",
       "      <td>498</td>\n",
       "      <td>13.45</td>\n",
       "    </tr>\n",
       "    <tr>\n",
       "      <th>5</th>\n",
       "      <td>617</td>\n",
       "      <td>3.73</td>\n",
       "    </tr>\n",
       "    <tr>\n",
       "      <th>6</th>\n",
       "      <td>843</td>\n",
       "      <td>5.81</td>\n",
       "    </tr>\n",
       "    <tr>\n",
       "      <th>7</th>\n",
       "      <td>1318</td>\n",
       "      <td>5.24</td>\n",
       "    </tr>\n",
       "    <tr>\n",
       "      <th>8</th>\n",
       "      <td>1791</td>\n",
       "      <td>3.91</td>\n",
       "    </tr>\n",
       "    <tr>\n",
       "      <th>9</th>\n",
       "      <td>2310</td>\n",
       "      <td>3.25</td>\n",
       "    </tr>\n",
       "    <tr>\n",
       "      <th>10</th>\n",
       "      <td>15131</td>\n",
       "      <td>0.90</td>\n",
       "    </tr>\n",
       "    <tr>\n",
       "      <th>11</th>\n",
       "      <td>79920</td>\n",
       "      <td>0.53</td>\n",
       "    </tr>\n",
       "    <tr>\n",
       "      <th>12</th>\n",
       "      <td>89589</td>\n",
       "      <td>0.46</td>\n",
       "    </tr>\n",
       "    <tr>\n",
       "      <th rowspan=\"5\" valign=\"top\">2018</th>\n",
       "      <th>1</th>\n",
       "      <td>271241</td>\n",
       "      <td>0.22</td>\n",
       "    </tr>\n",
       "    <tr>\n",
       "      <th>2</th>\n",
       "      <td>306093</td>\n",
       "      <td>0.25</td>\n",
       "    </tr>\n",
       "    <tr>\n",
       "      <th>3</th>\n",
       "      <td>118007</td>\n",
       "      <td>0.21</td>\n",
       "    </tr>\n",
       "    <tr>\n",
       "      <th>4</th>\n",
       "      <td>25</td>\n",
       "      <td>0.00</td>\n",
       "    </tr>\n",
       "    <tr>\n",
       "      <th>5</th>\n",
       "      <td>8</td>\n",
       "      <td>0.00</td>\n",
       "    </tr>\n",
       "    <tr>\n",
       "      <th>2026</th>\n",
       "      <th>11</th>\n",
       "      <td>1</td>\n",
       "      <td>0.00</td>\n",
       "    </tr>\n",
       "    <tr>\n",
       "      <th>2037</th>\n",
       "      <th>5</th>\n",
       "      <td>1</td>\n",
       "      <td>0.00</td>\n",
       "    </tr>\n",
       "  </tbody>\n",
       "</table>\n",
       "</div>"
      ],
      "text/plain": [
       "                         total installs  conversion rate\n",
       "InstallDate InstallDate                                 \n",
       "1999        12                        1             0.00\n",
       "2009        12                        4             0.00\n",
       "2011        12                        1             0.00\n",
       "2013        5                         1             0.00\n",
       "            12                        1             0.00\n",
       "2014        1                         1             0.00\n",
       "            12                        8             0.00\n",
       "2015        1                         3             0.00\n",
       "            12                        6             0.00\n",
       "2016        1                        10            10.00\n",
       "            2                        13            38.46\n",
       "            3                         7             0.00\n",
       "            4                        21             0.00\n",
       "            5                        18             0.00\n",
       "            6                        37            21.62\n",
       "            7                        27             7.41\n",
       "            8                        45             8.89\n",
       "            9                        52             9.62\n",
       "            10                       79             7.59\n",
       "            11                       64             4.69\n",
       "            12                       93             2.15\n",
       "2017        1                       278             3.24\n",
       "            2                       306             4.25\n",
       "            3                       465            13.98\n",
       "            4                       498            13.45\n",
       "            5                       617             3.73\n",
       "            6                       843             5.81\n",
       "            7                      1318             5.24\n",
       "            8                      1791             3.91\n",
       "            9                      2310             3.25\n",
       "            10                    15131             0.90\n",
       "            11                    79920             0.53\n",
       "            12                    89589             0.46\n",
       "2018        1                    271241             0.22\n",
       "            2                    306093             0.25\n",
       "            3                    118007             0.21\n",
       "            4                        25             0.00\n",
       "            5                         8             0.00\n",
       "2026        11                        1             0.00\n",
       "2037        5                         1             0.00"
      ]
     },
     "execution_count": 236,
     "metadata": {},
     "output_type": "execute_result"
    }
   ],
   "source": [
    "Conversion_by_date"
   ]
  },
  {
   "cell_type": "markdown",
   "metadata": {},
   "source": [
    "## App personalization features input by user:"
   ]
  },
  {
   "cell_type": "markdown",
   "metadata": {},
   "source": [
    "### User age distribution"
   ]
  },
  {
   "cell_type": "code",
   "execution_count": 13,
   "metadata": {},
   "outputs": [
    {
     "data": {
      "text/plain": [
       "<matplotlib.axes._subplots.AxesSubplot at 0x110225f98>"
      ]
     },
     "execution_count": 13,
     "metadata": {},
     "output_type": "execute_result"
    },
    {
     "data": {
      "image/png": "[encoded data removed]",
      "text/plain": [
       "<matplotlib.figure.Figure at 0x116f5a0b8>"
      ]
     },
     "metadata": {},
     "output_type": "display_data"
    }
   ],
   "source": [
    "df['AgeWhenGoalsSet'].plot.hist(bins=100)"
   ]
  },
  {
   "cell_type": "code",
   "execution_count": 294,
   "metadata": {},
   "outputs": [
    {
     "data": {
      "text/plain": [
       "<matplotlib.text.Text at 0x160129e80>"
      ]
     },
     "execution_count": 294,
     "metadata": {},
     "output_type": "execute_result"
    },
    {
     "data": {
      "image/png": "[encoded data removed]",
      "text/plain": [
       "<matplotlib.figure.Figure at 0x15fa5d0b8>"
      ]
     },
     "metadata": {},
     "output_type": "display_data"
    }
   ],
   "source": [
    "fig, ax = plt.subplots(1,2, figsize=(10,6))\n",
    "sns.distplot(df[df['AgeWhenGoalsSet'].apply(lambda x: x>0) & df['IsPaid']==True]['AgeWhenGoalsSet'],\n",
    "             kde=False, bins=60, ax=ax[0])\n",
    "ax[0].set_title('Paid users')\n",
    "\n",
    "sns.distplot(df[df['AgeWhenGoalsSet'].apply(lambda x: x>0) & df['IsPaid']==False]['AgeWhenGoalsSet'],\n",
    "             kde=False, bins=60, ax=ax[1])\n",
    "ax[1].set_title('Non-paid users')\n",
    "\n",
    "plt.suptitle('Age distribution for paid vs unpaid users', fontsize=16)"
   ]
  },
  {
   "cell_type": "code",
   "execution_count": 96,
   "metadata": {},
   "outputs": [
    {
     "name": "stdout",
     "output_type": "stream",
     "text": [
      "Conversion rate, input age: 0.24%\n",
      "Conversion rate, DID NOT input age: 0.10%\n"
     ]
    }
   ],
   "source": [
    "rate = df[(df['AgeWhenGoalsSet']!=0) & (df['IsPaid']==True)]['AgeWhenGoalsSet'].count()/df['AgeWhenGoalsSet'].count()*100\n",
    "print(\"Conversion rate, input age: %.2f%%\" %rate)\n",
    "\n",
    "rate = df[(df['AgeWhenGoalsSet']==0) & (df['IsPaid']==True)]['AgeWhenGoalsSet'].count()/df['AgeWhenGoalsSet'].count()*100\n",
    "print(\"Conversion rate, DID NOT input age: %.2f%%\" %rate)"
   ]
  },
  {
   "cell_type": "markdown",
   "metadata": {},
   "source": [
    "### Gender\n",
    "- conversion rate (listed as mean) for males is 3x that of females or none (no response)"
   ]
  },
  {
   "cell_type": "code",
   "execution_count": 16,
   "metadata": {},
   "outputs": [
    {
     "data": {
      "text/html": [
       "<div>\n",
       "<style>\n",
       "    .dataframe thead tr:only-child th {\n",
       "        text-align: right;\n",
       "    }\n",
       "\n",
       "    .dataframe thead th {\n",
       "        text-align: left;\n",
       "    }\n",
       "\n",
       "    .dataframe tbody tr th {\n",
       "        vertical-align: top;\n",
       "    }\n",
       "</style>\n",
       "<table border=\"1\" class=\"dataframe\">\n",
       "  <thead>\n",
       "    <tr style=\"text-align: right;\">\n",
       "      <th></th>\n",
       "      <th>count</th>\n",
       "      <th>mean</th>\n",
       "    </tr>\n",
       "    <tr>\n",
       "      <th>Gender</th>\n",
       "      <th></th>\n",
       "      <th></th>\n",
       "    </tr>\n",
       "  </thead>\n",
       "  <tbody>\n",
       "    <tr>\n",
       "      <th>Female</th>\n",
       "      <td>488048</td>\n",
       "      <td>0.003073</td>\n",
       "    </tr>\n",
       "    <tr>\n",
       "      <th>Male</th>\n",
       "      <td>72162</td>\n",
       "      <td>0.009091</td>\n",
       "    </tr>\n",
       "    <tr>\n",
       "      <th>None</th>\n",
       "      <td>328724</td>\n",
       "      <td>0.002747</td>\n",
       "    </tr>\n",
       "  </tbody>\n",
       "</table>\n",
       "</div>"
      ],
      "text/plain": [
       "         count      mean\n",
       "Gender                  \n",
       "Female  488048  0.003073\n",
       "Male     72162  0.009091\n",
       "None    328724  0.002747"
      ]
     },
     "execution_count": 16,
     "metadata": {},
     "output_type": "execute_result"
    }
   ],
   "source": [
    "pd.pivot_table(df, index='Gender', values='IsPaid', aggfunc=('count','mean'))"
   ]
  },
  {
   "cell_type": "markdown",
   "metadata": {},
   "source": [
    "### Program\n",
    "- this feature does not provide a strong signal and is inherently very subjective"
   ]
  },
  {
   "cell_type": "code",
   "execution_count": 17,
   "metadata": {},
   "outputs": [
    {
     "data": {
      "text/html": [
       "<div>\n",
       "<style>\n",
       "    .dataframe thead tr:only-child th {\n",
       "        text-align: right;\n",
       "    }\n",
       "\n",
       "    .dataframe thead th {\n",
       "        text-align: left;\n",
       "    }\n",
       "\n",
       "    .dataframe tbody tr th {\n",
       "        vertical-align: top;\n",
       "    }\n",
       "</style>\n",
       "<table border=\"1\" class=\"dataframe\">\n",
       "  <thead>\n",
       "    <tr style=\"text-align: right;\">\n",
       "      <th></th>\n",
       "      <th>count</th>\n",
       "      <th>mean</th>\n",
       "    </tr>\n",
       "    <tr>\n",
       "      <th>Program</th>\n",
       "      <th></th>\n",
       "      <th></th>\n",
       "    </tr>\n",
       "  </thead>\n",
       "  <tbody>\n",
       "    <tr>\n",
       "      <th>Faster</th>\n",
       "      <td>144697</td>\n",
       "      <td>0.003552</td>\n",
       "    </tr>\n",
       "    <tr>\n",
       "      <th>LittleFaster</th>\n",
       "      <td>163928</td>\n",
       "      <td>0.003404</td>\n",
       "    </tr>\n",
       "    <tr>\n",
       "      <th>None</th>\n",
       "      <td>320945</td>\n",
       "      <td>0.002820</td>\n",
       "    </tr>\n",
       "    <tr>\n",
       "      <th>Normal</th>\n",
       "      <td>232778</td>\n",
       "      <td>0.004180</td>\n",
       "    </tr>\n",
       "    <tr>\n",
       "      <th>SlowAndSteady</th>\n",
       "      <td>26586</td>\n",
       "      <td>0.004100</td>\n",
       "    </tr>\n",
       "  </tbody>\n",
       "</table>\n",
       "</div>"
      ],
      "text/plain": [
       "                count      mean\n",
       "Program                        \n",
       "Faster         144697  0.003552\n",
       "LittleFaster   163928  0.003404\n",
       "None           320945  0.002820\n",
       "Normal         232778  0.004180\n",
       "SlowAndSteady   26586  0.004100"
      ]
     },
     "execution_count": 17,
     "metadata": {},
     "output_type": "execute_result"
    }
   ],
   "source": [
    "pd.pivot_table(df, index='Program', values='IsPaid', aggfunc=('count','mean'))"
   ]
  },
  {
   "cell_type": "markdown",
   "metadata": {},
   "source": [
    "### Onboarding goal\n",
    "- most users want to lose/maintain/gain weight"
   ]
  },
  {
   "cell_type": "code",
   "execution_count": 341,
   "metadata": {},
   "outputs": [
    {
     "data": {
      "text/html": [
       "<div>\n",
       "<style>\n",
       "    .dataframe thead tr:only-child th {\n",
       "        text-align: right;\n",
       "    }\n",
       "\n",
       "    .dataframe thead th {\n",
       "        text-align: left;\n",
       "    }\n",
       "\n",
       "    .dataframe tbody tr th {\n",
       "        vertical-align: top;\n",
       "    }\n",
       "</style>\n",
       "<table border=\"1\" class=\"dataframe\">\n",
       "  <thead>\n",
       "    <tr style=\"text-align: right;\">\n",
       "      <th></th>\n",
       "      <th>count</th>\n",
       "      <th>mean</th>\n",
       "    </tr>\n",
       "    <tr>\n",
       "      <th>OnboardingGoal</th>\n",
       "      <th></th>\n",
       "      <th></th>\n",
       "    </tr>\n",
       "  </thead>\n",
       "  <tbody>\n",
       "    <tr>\n",
       "      <th>JustCurious</th>\n",
       "      <td>42354</td>\n",
       "      <td>0.002196</td>\n",
       "    </tr>\n",
       "    <tr>\n",
       "      <th>LoseMaintainOrGainWeight</th>\n",
       "      <td>528175</td>\n",
       "      <td>0.003970</td>\n",
       "    </tr>\n",
       "    <tr>\n",
       "      <th>None</th>\n",
       "      <td>167700</td>\n",
       "      <td>0.000185</td>\n",
       "    </tr>\n",
       "    <tr>\n",
       "      <th>NotOffered</th>\n",
       "      <td>9958</td>\n",
       "      <td>0.035047</td>\n",
       "    </tr>\n",
       "    <tr>\n",
       "      <th>Other</th>\n",
       "      <td>27520</td>\n",
       "      <td>0.006141</td>\n",
       "    </tr>\n",
       "    <tr>\n",
       "      <th>Skip</th>\n",
       "      <td>80233</td>\n",
       "      <td>0.001845</td>\n",
       "    </tr>\n",
       "    <tr>\n",
       "      <th>TrackSpecificNutritionGoals</th>\n",
       "      <td>32994</td>\n",
       "      <td>0.005213</td>\n",
       "    </tr>\n",
       "  </tbody>\n",
       "</table>\n",
       "</div>"
      ],
      "text/plain": [
       "                              count      mean\n",
       "OnboardingGoal                               \n",
       "JustCurious                   42354  0.002196\n",
       "LoseMaintainOrGainWeight     528175  0.003970\n",
       "None                         167700  0.000185\n",
       "NotOffered                     9958  0.035047\n",
       "Other                         27520  0.006141\n",
       "Skip                          80233  0.001845\n",
       "TrackSpecificNutritionGoals   32994  0.005213"
      ]
     },
     "execution_count": 341,
     "metadata": {},
     "output_type": "execute_result"
    }
   ],
   "source": [
    "pd.pivot_table(df, index='OnboardingGoal', values='IsPaid', aggfunc=('count','mean'))"
   ]
  },
  {
   "cell_type": "markdown",
   "metadata": {},
   "source": [
    "### ReminderFrequency"
   ]
  },
  {
   "cell_type": "code",
   "execution_count": 18,
   "metadata": {},
   "outputs": [
    {
     "data": {
      "text/html": [
       "<div>\n",
       "<style>\n",
       "    .dataframe thead tr:only-child th {\n",
       "        text-align: right;\n",
       "    }\n",
       "\n",
       "    .dataframe thead th {\n",
       "        text-align: left;\n",
       "    }\n",
       "\n",
       "    .dataframe tbody tr th {\n",
       "        vertical-align: top;\n",
       "    }\n",
       "</style>\n",
       "<table border=\"1\" class=\"dataframe\">\n",
       "  <thead>\n",
       "    <tr style=\"text-align: right;\">\n",
       "      <th></th>\n",
       "      <th>count</th>\n",
       "      <th>mean</th>\n",
       "    </tr>\n",
       "    <tr>\n",
       "      <th>ReminderFrequency</th>\n",
       "      <th></th>\n",
       "      <th></th>\n",
       "    </tr>\n",
       "  </thead>\n",
       "  <tbody>\n",
       "    <tr>\n",
       "      <th>Disabled</th>\n",
       "      <td>87967</td>\n",
       "      <td>0.003240</td>\n",
       "    </tr>\n",
       "    <tr>\n",
       "      <th>ForEveryMeal</th>\n",
       "      <td>466857</td>\n",
       "      <td>0.003438</td>\n",
       "    </tr>\n",
       "    <tr>\n",
       "      <th>None</th>\n",
       "      <td>148697</td>\n",
       "      <td>0.003275</td>\n",
       "    </tr>\n",
       "    <tr>\n",
       "      <th>OncePerDay</th>\n",
       "      <td>185413</td>\n",
       "      <td>0.003678</td>\n",
       "    </tr>\n",
       "  </tbody>\n",
       "</table>\n",
       "</div>"
      ],
      "text/plain": [
       "                    count      mean\n",
       "ReminderFrequency                  \n",
       "Disabled            87967  0.003240\n",
       "ForEveryMeal       466857  0.003438\n",
       "None               148697  0.003275\n",
       "OncePerDay         185413  0.003678"
      ]
     },
     "execution_count": 18,
     "metadata": {},
     "output_type": "execute_result"
    }
   ],
   "source": [
    "pd.pivot_table(df, index='ReminderFrequency', values='IsPaid', aggfunc=('count','mean'))"
   ]
  },
  {
   "cell_type": "markdown",
   "metadata": {},
   "source": [
    "### ShowMealTime\n",
    "- whether or not this feature is chosen is a signal"
   ]
  },
  {
   "cell_type": "code",
   "execution_count": 19,
   "metadata": {},
   "outputs": [
    {
     "data": {
      "text/html": [
       "<div>\n",
       "<style>\n",
       "    .dataframe thead tr:only-child th {\n",
       "        text-align: right;\n",
       "    }\n",
       "\n",
       "    .dataframe thead th {\n",
       "        text-align: left;\n",
       "    }\n",
       "\n",
       "    .dataframe tbody tr th {\n",
       "        vertical-align: top;\n",
       "    }\n",
       "</style>\n",
       "<table border=\"1\" class=\"dataframe\">\n",
       "  <thead>\n",
       "    <tr style=\"text-align: right;\">\n",
       "      <th></th>\n",
       "      <th>count</th>\n",
       "      <th>mean</th>\n",
       "    </tr>\n",
       "    <tr>\n",
       "      <th>ShowMealTime</th>\n",
       "      <th></th>\n",
       "      <th></th>\n",
       "    </tr>\n",
       "  </thead>\n",
       "  <tbody>\n",
       "    <tr>\n",
       "      <th>False</th>\n",
       "      <td>867095</td>\n",
       "      <td>0.002969</td>\n",
       "    </tr>\n",
       "    <tr>\n",
       "      <th>True</th>\n",
       "      <td>21839</td>\n",
       "      <td>0.022208</td>\n",
       "    </tr>\n",
       "  </tbody>\n",
       "</table>\n",
       "</div>"
      ],
      "text/plain": [
       "               count      mean\n",
       "ShowMealTime                  \n",
       "False         867095  0.002969\n",
       "True           21839  0.022208"
      ]
     },
     "execution_count": 19,
     "metadata": {},
     "output_type": "execute_result"
    }
   ],
   "source": [
    "pd.pivot_table(df, index='ShowMealTime', values='IsPaid', aggfunc=('count','mean'))"
   ]
  },
  {
   "cell_type": "markdown",
   "metadata": {},
   "source": [
    "### TargetWeight\n",
    "- whether or not target weight is inputted is a signal\n",
    "- correlation with age\n",
    "- target weight > 200 kg looks suspicious- software bug?\n",
    "- minimum age required for downloading app is officially 15 years old"
   ]
  },
  {
   "cell_type": "code",
   "execution_count": 304,
   "metadata": {},
   "outputs": [
    {
     "data": {
      "text/html": [
       "<div>\n",
       "<style>\n",
       "    .dataframe thead tr:only-child th {\n",
       "        text-align: right;\n",
       "    }\n",
       "\n",
       "    .dataframe thead th {\n",
       "        text-align: left;\n",
       "    }\n",
       "\n",
       "    .dataframe tbody tr th {\n",
       "        vertical-align: top;\n",
       "    }\n",
       "</style>\n",
       "<table border=\"1\" class=\"dataframe\">\n",
       "  <thead>\n",
       "    <tr style=\"text-align: right;\">\n",
       "      <th></th>\n",
       "      <th>count</th>\n",
       "      <th>mean</th>\n",
       "    </tr>\n",
       "    <tr>\n",
       "      <th>TargetWeight</th>\n",
       "      <th></th>\n",
       "      <th></th>\n",
       "    </tr>\n",
       "  </thead>\n",
       "  <tbody>\n",
       "    <tr>\n",
       "      <th>False</th>\n",
       "      <td>312111</td>\n",
       "      <td>0.002871</td>\n",
       "    </tr>\n",
       "    <tr>\n",
       "      <th>True</th>\n",
       "      <td>576823</td>\n",
       "      <td>0.003750</td>\n",
       "    </tr>\n",
       "  </tbody>\n",
       "</table>\n",
       "</div>"
      ],
      "text/plain": [
       "               count      mean\n",
       "TargetWeight                  \n",
       "False         312111  0.002871\n",
       "True          576823  0.003750"
      ]
     },
     "execution_count": 304,
     "metadata": {},
     "output_type": "execute_result"
    }
   ],
   "source": [
    "pivot_by_weight = pd.pivot_table(df, index=df['TargetWeight'].apply(lambda x: x!=0),\n",
    "              values='IsPaid', aggfunc=('count', 'mean'))\n",
    "\n",
    "pivot_by_weight"
   ]
  },
  {
   "cell_type": "code",
   "execution_count": 310,
   "metadata": {},
   "outputs": [
    {
     "name": "stdout",
     "output_type": "stream",
     "text": [
      "Conversion rate, input TargetWeight: 0.37%\n",
      "Conversion rate, DID NOT input TargetWeight: 0.29%\n"
     ]
    }
   ],
   "source": [
    "rate1 = pivot_by_weight.iloc[1,1]*100\n",
    "print(\"Conversion rate, input TargetWeight: %.2f%%\" %rate1)\n",
    "rate2 = pivot_by_weight.iloc[0,1]*100\n",
    "print(\"Conversion rate, DID NOT input TargetWeight: %.2f%%\" %rate2)"
   ]
  },
  {
   "cell_type": "code",
   "execution_count": 103,
   "metadata": {},
   "outputs": [
    {
     "data": {
      "text/plain": [
       "<matplotlib.text.Text at 0x11663e6a0>"
      ]
     },
     "execution_count": 103,
     "metadata": {},
     "output_type": "execute_result"
    },
    {
     "data": {
      "image/png": "[encoded data removed]",
      "text/plain": [
       "<matplotlib.figure.Figure at 0x12e72e198>"
      ]
     },
     "metadata": {},
     "output_type": "display_data"
    }
   ],
   "source": [
    "plt.figure()\n",
    "df[df['TargetWeight']>0]['TargetWeight'].plot.hist(bins=100)\n",
    "plt.xlim(0,300)\n",
    "plt.xlabel('Target weight (kg)')"
   ]
  },
  {
   "cell_type": "code",
   "execution_count": 104,
   "metadata": {},
   "outputs": [
    {
     "data": {
      "text/plain": [
       "<matplotlib.text.Text at 0x114cd49e8>"
      ]
     },
     "execution_count": 104,
     "metadata": {},
     "output_type": "execute_result"
    },
    {
     "data": {
      "image/png": "[encoded data removed]",
      "text/plain": [
       "<matplotlib.figure.Figure at 0x114952eb8>"
      ]
     },
     "metadata": {},
     "output_type": "display_data"
    }
   ],
   "source": [
    "# cumulative distribution plot\n",
    "df_tw = df[df['TargetWeight']>0]['TargetWeight']\n",
    "#unique_elements, counts_elements = np.unique(df_tw.values, return_counts=True)\n",
    "\n",
    "num_bins=100\n",
    "counts, bin_edges = np.histogram(df_tw.values, bins=num_bins)\n",
    "cdf = np.cumsum(counts/df_tw.count())\n",
    "\n",
    "plt.step(bin_edges[1:], cdf)\n",
    "plt.xlim(-10,210)\n",
    "plt.ylim(-0.05,1.05)\n",
    "plt.xlabel('Target weight (kg)')\n",
    "plt.ylabel('CDF')"
   ]
  },
  {
   "cell_type": "code",
   "execution_count": 50,
   "metadata": {},
   "outputs": [
    {
     "data": {
      "text/plain": [
       "count    576823.00000\n",
       "mean         60.54361\n",
       "std          17.02299\n",
       "min          30.00200\n",
       "25%          50.00000\n",
       "50%          59.00000\n",
       "75%          68.00000\n",
       "max         498.95220\n",
       "Name: TargetWeight, dtype: float64"
      ]
     },
     "execution_count": 50,
     "metadata": {},
     "output_type": "execute_result"
    }
   ],
   "source": [
    "df[df['TargetWeight']>0]['TargetWeight'].describe()"
   ]
  },
  {
   "cell_type": "code",
   "execution_count": 122,
   "metadata": {},
   "outputs": [
    {
     "data": {
      "text/plain": [
       "<seaborn.axisgrid.FacetGrid at 0x1245d7128>"
      ]
     },
     "execution_count": 122,
     "metadata": {},
     "output_type": "execute_result"
    },
    {
     "data": {
      "image/png": "[encoded data removed]",
      "text/plain": [
       "<matplotlib.figure.Figure at 0x1245d7898>"
      ]
     },
     "metadata": {},
     "output_type": "display_data"
    }
   ],
   "source": [
    "sns.lmplot(x='AgeWhenGoalsSet', y='TargetWeight', data=df, hue='IsPaid', fit_reg=False)"
   ]
  },
  {
   "cell_type": "markdown",
   "metadata": {},
   "source": [
    "## Cleaning the data and adding new features"
   ]
  },
  {
   "cell_type": "markdown",
   "metadata": {},
   "source": [
    "### DaysSinceInstall: all zeros, calculate # days since install including first day "
   ]
  },
  {
   "cell_type": "code",
   "execution_count": 6,
   "metadata": {},
   "outputs": [
    {
     "data": {
      "text/plain": [
       "0    888934\n",
       "Name: DaysSinceInstall, dtype: int64"
      ]
     },
     "execution_count": 6,
     "metadata": {},
     "output_type": "execute_result"
    }
   ],
   "source": [
    "# DaysSinceInstall does not have values\n",
    "df['DaysSinceInstall'].value_counts()"
   ]
  },
  {
   "cell_type": "code",
   "execution_count": 7,
   "metadata": {
    "collapsed": true
   },
   "outputs": [],
   "source": [
    "from datetime import datetime\n",
    "from datetime import timedelta"
   ]
  },
  {
   "cell_type": "code",
   "execution_count": 8,
   "metadata": {
    "collapsed": true
   },
   "outputs": [],
   "source": [
    "# include the day it was installed\n",
    "df['DaysSinceInstall'] = datetime(2018,3,16) - df['InstallDate'] + timedelta(days=1)"
   ]
  },
  {
   "cell_type": "code",
   "execution_count": 9,
   "metadata": {
    "collapsed": true
   },
   "outputs": [],
   "source": [
    "# change to integer type\n",
    "df['DaysSinceInstall']=(df['DaysSinceInstall'] / np.timedelta64(1, 'D')).astype(int)"
   ]
  },
  {
   "cell_type": "code",
   "execution_count": 10,
   "metadata": {},
   "outputs": [
    {
     "data": {
      "text/plain": [
       "79"
      ]
     },
     "execution_count": 10,
     "metadata": {},
     "output_type": "execute_result"
    }
   ],
   "source": [
    "# something wrong with InstallDate, has many dates in the future\n",
    "df[df['DaysSinceInstall']<=0]['DaysSinceInstall'].count()"
   ]
  },
  {
   "cell_type": "code",
   "execution_count": 11,
   "metadata": {},
   "outputs": [
    {
     "data": {
      "text/plain": [
       "0"
      ]
     },
     "execution_count": 11,
     "metadata": {},
     "output_type": "execute_result"
    }
   ],
   "source": [
    "# No paid entries with negative DaysSinceInstall\n",
    "df[(df['DaysSinceInstall']<=0) & (df['IsPaid']==True)]['ID'].count()"
   ]
  },
  {
   "cell_type": "code",
   "execution_count": 12,
   "metadata": {
    "collapsed": true
   },
   "outputs": [],
   "source": [
    "# Reset the entries with negative DaysSinceInstall to 1 day\n",
    "df.loc[df['DaysSinceInstall']<=0, 'DaysSinceInstall']=1"
   ]
  },
  {
   "cell_type": "code",
   "execution_count": 13,
   "metadata": {},
   "outputs": [
    {
     "data": {
      "text/plain": [
       "0"
      ]
     },
     "execution_count": 13,
     "metadata": {},
     "output_type": "execute_result"
    }
   ],
   "source": [
    "df[df['DaysSinceInstall']<=0]['DaysSinceInstall'].count()"
   ]
  },
  {
   "cell_type": "markdown",
   "metadata": {},
   "source": [
    "## Add new features\n",
    "- create features that allow for comparison\n",
    "- create features that indicate whether or not user input any data (Age, TargetWeight)"
   ]
  },
  {
   "cell_type": "markdown",
   "metadata": {},
   "source": [
    "### AgeInput: whether or not user input any data"
   ]
  },
  {
   "cell_type": "code",
   "execution_count": 14,
   "metadata": {
    "collapsed": true
   },
   "outputs": [],
   "source": [
    "df['AgeInput']=df['AgeWhenGoalsSet']/df['AgeWhenGoalsSet']"
   ]
  },
  {
   "cell_type": "code",
   "execution_count": 15,
   "metadata": {
    "collapsed": true
   },
   "outputs": [],
   "source": [
    "df['AgeInput'].fillna(value=0, inplace=True)"
   ]
  },
  {
   "cell_type": "code",
   "execution_count": 16,
   "metadata": {
    "collapsed": true
   },
   "outputs": [],
   "source": [
    "df['AgeInput'] = df['AgeInput'].astype(bool)"
   ]
  },
  {
   "cell_type": "code",
   "execution_count": 17,
   "metadata": {},
   "outputs": [
    {
     "data": {
      "text/plain": [
       "True     560211\n",
       "False    328723\n",
       "Name: AgeInput, dtype: int64"
      ]
     },
     "execution_count": 17,
     "metadata": {},
     "output_type": "execute_result"
    }
   ],
   "source": [
    "df['AgeInput'].value_counts()"
   ]
  },
  {
   "cell_type": "markdown",
   "metadata": {},
   "source": [
    "### TargetWeightInput: whether or not user input any data"
   ]
  },
  {
   "cell_type": "code",
   "execution_count": 18,
   "metadata": {
    "collapsed": true
   },
   "outputs": [],
   "source": [
    "df['TargetWeightInput'] = df['TargetWeight']/df['TargetWeight']"
   ]
  },
  {
   "cell_type": "code",
   "execution_count": 19,
   "metadata": {
    "collapsed": true
   },
   "outputs": [],
   "source": [
    "df['TargetWeightInput'].fillna(value=0, inplace=True)\n",
    "df['TargetWeightInput'] = df['TargetWeightInput'].astype(bool)"
   ]
  },
  {
   "cell_type": "code",
   "execution_count": 20,
   "metadata": {},
   "outputs": [
    {
     "data": {
      "text/plain": [
       "True     576823\n",
       "False    312111\n",
       "Name: TargetWeightInput, dtype: int64"
      ]
     },
     "execution_count": 20,
     "metadata": {},
     "output_type": "execute_result"
    }
   ],
   "source": [
    "df['TargetWeightInput'].value_counts()"
   ]
  },
  {
   "cell_type": "markdown",
   "metadata": {},
   "source": [
    "### SessionsPerDay\n",
    "- for paid users, appears as if most have stopped using the app (assuming active user would access app 1-5x per day)\n",
    "- possible issue with recording sessions in app data\n",
    "- need to define what constitues an active user"
   ]
  },
  {
   "cell_type": "code",
   "execution_count": 21,
   "metadata": {
    "collapsed": true
   },
   "outputs": [],
   "source": [
    "# SessionsPerDay\n",
    "df['SessionsPerDay'] = df['SessionCount']/df['DaysSinceInstall']"
   ]
  },
  {
   "cell_type": "code",
   "execution_count": 22,
   "metadata": {},
   "outputs": [
    {
     "data": {
      "text/plain": [
       "(0, 5)"
      ]
     },
     "execution_count": 22,
     "metadata": {},
     "output_type": "execute_result"
    },
    {
     "data": {
      "image/png": "[encoded data removed]",
      "text/plain": [
       "<matplotlib.figure.Figure at 0x11aa41da0>"
      ]
     },
     "metadata": {},
     "output_type": "display_data"
    }
   ],
   "source": [
    "df[df['IsPaid']==True]['SessionsPerDay'].plot.hist(bins=100)\n",
    "plt.xlim(0,5)"
   ]
  },
  {
   "cell_type": "markdown",
   "metadata": {},
   "source": [
    "### WeightDiff\n",
    "- user's goal (weight loss or gain)"
   ]
  },
  {
   "cell_type": "code",
   "execution_count": 23,
   "metadata": {
    "collapsed": true
   },
   "outputs": [],
   "source": [
    "df['WeightDiff'] = df['TargetWeight'] - df['LastWeight']"
   ]
  },
  {
   "cell_type": "markdown",
   "metadata": {},
   "source": [
    "### LastBMI and TargetBMI\n",
    "- combine height and weight into one variable\n",
    "- indicator of \"health\" or \"fitness\""
   ]
  },
  {
   "cell_type": "code",
   "execution_count": 24,
   "metadata": {
    "collapsed": true
   },
   "outputs": [],
   "source": [
    "# current BMI (kg/m^2) = last weight (kg)/height^2 (m^2)\n",
    "df['LastBMI'] = df['LastWeight']/((df['Height']/100)**2)\n",
    "\n",
    "# target BMI (kg/m^2) = target weight(kg)/height^2 (m^2)\n",
    "df['TargetBMI'] = df['TargetWeight']/((df['Height']/100)**2)"
   ]
  },
  {
   "cell_type": "markdown",
   "metadata": {},
   "source": [
    "### AgeGroup: add new feature for age groups based on distribution\n",
    "- address sparse data issue with few paid users for a given age year\n",
    "- as anticipated, older users are willing to and/or have the means to pay compared to younger users"
   ]
  },
  {
   "cell_type": "code",
   "execution_count": 25,
   "metadata": {
    "collapsed": true
   },
   "outputs": [],
   "source": [
    "# split dataframe into two: 1) zero value of AgeWhenGoalsSet and 2) non-zero values of AgeWhenGoalsSet\n",
    "df_age_zero = df[df['AgeWhenGoalsSet']==0]\n",
    "df_age_nonzero = df[df['AgeWhenGoalsSet']!=0]\n",
    "\n",
    "# bin age into quintiles and assign to column AgeGroup\n",
    "quintiles = pd.qcut(df_age_nonzero['AgeWhenGoalsSet'], 5, labels=[1,2,3,4,5])\n",
    "df_age_nonzero = df_age_nonzero.assign(AgeGroup=quintiles.values)\n",
    "\n",
    "# change from category to int\n",
    "df_age_nonzero['AgeGroup'] = df_age_nonzero['AgeGroup'].astype(int)\n",
    "\n",
    "# set AgeGroup=0 for zero age (no input)\n",
    "df_age_zero = df_age_zero.assign(AgeGroup=0)\n",
    "\n",
    "# recombine dataframes\n",
    "df = pd.concat([df_age_zero,df_age_nonzero])"
   ]
  },
  {
   "cell_type": "code",
   "execution_count": 26,
   "metadata": {},
   "outputs": [
    {
     "data": {
      "text/html": [
       "<div>\n",
       "<style>\n",
       "    .dataframe thead tr:only-child th {\n",
       "        text-align: right;\n",
       "    }\n",
       "\n",
       "    .dataframe thead th {\n",
       "        text-align: left;\n",
       "    }\n",
       "\n",
       "    .dataframe tbody tr th {\n",
       "        vertical-align: top;\n",
       "    }\n",
       "</style>\n",
       "<table border=\"1\" class=\"dataframe\">\n",
       "  <thead>\n",
       "    <tr style=\"text-align: right;\">\n",
       "      <th></th>\n",
       "      <th>count</th>\n",
       "      <th>mean</th>\n",
       "    </tr>\n",
       "    <tr>\n",
       "      <th>AgeGroup</th>\n",
       "      <th></th>\n",
       "      <th></th>\n",
       "    </tr>\n",
       "  </thead>\n",
       "  <tbody>\n",
       "    <tr>\n",
       "      <th>0</th>\n",
       "      <td>328723</td>\n",
       "      <td>0.002747</td>\n",
       "    </tr>\n",
       "    <tr>\n",
       "      <th>1</th>\n",
       "      <td>154096</td>\n",
       "      <td>0.000552</td>\n",
       "    </tr>\n",
       "    <tr>\n",
       "      <th>2</th>\n",
       "      <td>71676</td>\n",
       "      <td>0.001284</td>\n",
       "    </tr>\n",
       "    <tr>\n",
       "      <th>3</th>\n",
       "      <td>110993</td>\n",
       "      <td>0.002685</td>\n",
       "    </tr>\n",
       "    <tr>\n",
       "      <th>4</th>\n",
       "      <td>115949</td>\n",
       "      <td>0.005166</td>\n",
       "    </tr>\n",
       "    <tr>\n",
       "      <th>5</th>\n",
       "      <td>107497</td>\n",
       "      <td>0.010065</td>\n",
       "    </tr>\n",
       "  </tbody>\n",
       "</table>\n",
       "</div>"
      ],
      "text/plain": [
       "           count      mean\n",
       "AgeGroup                  \n",
       "0         328723  0.002747\n",
       "1         154096  0.000552\n",
       "2          71676  0.001284\n",
       "3         110993  0.002685\n",
       "4         115949  0.005166\n",
       "5         107497  0.010065"
      ]
     },
     "execution_count": 26,
     "metadata": {},
     "output_type": "execute_result"
    }
   ],
   "source": [
    "pd.pivot_table(df, index='AgeGroup', values='IsPaid', aggfunc=('count','mean'))"
   ]
  },
  {
   "cell_type": "markdown",
   "metadata": {},
   "source": [
    "### LastProduct, LastProductValue, SingleProduct, TwoProducts\n",
    "- change nan values to 'not paid' or zero"
   ]
  },
  {
   "cell_type": "code",
   "execution_count": 27,
   "metadata": {
    "collapsed": true
   },
   "outputs": [],
   "source": [
    "df['LastProduct'].fillna(value='not_paid', inplace=True)\n",
    "df['LastProductValue'].fillna(value=0, inplace=True)\n",
    "df['SingleProduct'].fillna(value='not_offered', inplace=True)\n",
    "df['TwoProducts'].fillna(value='not_offered', inplace=True)"
   ]
  },
  {
   "cell_type": "markdown",
   "metadata": {},
   "source": [
    "### Save cleaned data and new features"
   ]
  },
  {
   "cell_type": "code",
   "execution_count": null,
   "metadata": {
    "collapsed": true
   },
   "outputs": [],
   "source": [
    "df.to_pickle('df_clean-2018-03-16-newfeat')"
   ]
  },
  {
   "cell_type": "markdown",
   "metadata": {},
   "source": [
    "### QProductAmtOffer: add new feature to show dollar amount offered for a Q subscription product"
   ]
  },
  {
   "cell_type": "code",
   "execution_count": 29,
   "metadata": {
    "collapsed": true
   },
   "outputs": [],
   "source": [
    "df_clean = pd.read_pickle('df_clean-2018-03-16-newfeat')"
   ]
  },
  {
   "cell_type": "code",
   "execution_count": 30,
   "metadata": {
    "collapsed": true
   },
   "outputs": [],
   "source": [
    "# save subset of dataframe with Q product as separate\n",
    "df_Q = pd.DataFrame(df_clean.loc[df['SingleProduct'].str.contains('q'), df_clean.columns])"
   ]
  },
  {
   "cell_type": "code",
   "execution_count": 31,
   "metadata": {
    "collapsed": true
   },
   "outputs": [],
   "source": [
    "df_Q = df_Q.reset_index(drop=True)"
   ]
  },
  {
   "cell_type": "code",
   "execution_count": 32,
   "metadata": {},
   "outputs": [
    {
     "data": {
      "text/plain": [
       "q4       141550\n",
       "q10      122898\n",
       "q6        67941\n",
       "q8        55785\n",
       "q12       45734\n",
       "q3        16222\n",
       "q2        12717\n",
       "i_q10        30\n",
       "i2_q6        22\n",
       "i2_q8        20\n",
       "Name: SingleProduct, dtype: int64"
      ]
     },
     "execution_count": 32,
     "metadata": {},
     "output_type": "execute_result"
    }
   ],
   "source": [
    "df_Q['SingleProduct'].value_counts()"
   ]
  },
  {
   "cell_type": "code",
   "execution_count": 33,
   "metadata": {
    "collapsed": true
   },
   "outputs": [],
   "source": [
    "# The number following 'q' is the price offered.\n",
    "df_Q['QProductAmtOffer']=df_Q['SingleProduct'].str.extract(r'(?<=q)(\\d+)', expand=False).fillna(0).astype(int)"
   ]
  },
  {
   "cell_type": "markdown",
   "metadata": {},
   "source": [
    "### QProductAmtPaid: amount paid for a Q product subscription offer"
   ]
  },
  {
   "cell_type": "code",
   "execution_count": null,
   "metadata": {
    "collapsed": true
   },
   "outputs": [],
   "source": [
    "# If user pays, LastProduct records the subscription. \n",
    "# Find all subscriptions with 'q' and strip the number following it."
   ]
  },
  {
   "cell_type": "code",
   "execution_count": 34,
   "metadata": {
    "collapsed": true
   },
   "outputs": [],
   "source": [
    "df_Q['QProductAmtPaid']=df_Q['LastProduct'].str.extract(r'(?<=q)(\\d+)', expand=False).fillna(0).astype(int)"
   ]
  },
  {
   "cell_type": "code",
   "execution_count": 35,
   "metadata": {},
   "outputs": [
    {
     "data": {
      "text/plain": [
       "0     461779\n",
       "4        407\n",
       "10       318\n",
       "6        149\n",
       "12       106\n",
       "8         64\n",
       "3         54\n",
       "2         42\n",
       "Name: QProductAmtPaid, dtype: int64"
      ]
     },
     "execution_count": 35,
     "metadata": {},
     "output_type": "execute_result"
    }
   ],
   "source": [
    "df_Q['QProductAmtPaid'].value_counts()"
   ]
  },
  {
   "cell_type": "markdown",
   "metadata": {},
   "source": [
    "### Save cleaned data"
   ]
  },
  {
   "cell_type": "code",
   "execution_count": 36,
   "metadata": {
    "collapsed": true
   },
   "outputs": [],
   "source": [
    "df_Q.to_pickle('df_clean-2018-03-16-reducedQ')"
   ]
  }
 ],
 "metadata": {
  "kernelspec": {
   "display_name": "Python 3",
   "language": "python",
   "name": "python3"
  },
  "language_info": {
   "codemirror_mode": {
    "name": "ipython",
    "version": 3
   },
   "file_extension": ".py",
   "mimetype": "text/x-python",
   "name": "python",
   "nbconvert_exporter": "python",
   "pygments_lexer": "ipython3",
   "version": "3.8.3"
  }
 },
 "nbformat": 4,
 "nbformat_minor": 2
}
